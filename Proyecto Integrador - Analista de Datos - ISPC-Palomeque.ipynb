{
 "cells": [
  {
   "cell_type": "markdown",
   "id": "e4783e10-f3c8-44fc-8002-b920e84fc22c",
   "metadata": {},
   "source": [
    "# Proyecto integrador para el Módulo de analista de Datos - ISPC\n",
    "\n",
    "#### Módulo: Analista de datos (Estádistica y Exploración de datos, Ciencia de Datos y Procesamiento de Datos)\n",
    "#### Alumno: PALOMEQUE, Jonathan Manuel\n",
    "#### Carrera: Tecnicatura Superior en Ciencia de datos e IA\n",
    "#### Institución: Instituto Superior Politécnico Córdoba (ISPC)\n",
    "#### Año: 2024"
   ]
  },
  {
   "cell_type": "markdown",
   "id": "ad517c7e-f6a6-499e-a9dd-0b8a7ba04d7e",
   "metadata": {},
   "source": [
    "## Desarrollo del proyecto: "
   ]
  },
  {
   "cell_type": "markdown",
   "id": "c6647742-d6fc-4be3-8c5b-4b66f60e7d28",
   "metadata": {},
   "source": [
    "### I) Importar Pandas, Numpy y Matplotlib:"
   ]
  },
  {
   "cell_type": "code",
   "execution_count": 46,
   "id": "312fb8ed-9510-4d4a-976c-1e3d2247a38b",
   "metadata": {},
   "outputs": [],
   "source": [
    "import numpy as np\n",
    "import pandas as pd\n",
    "import matplotlib.pyplot as plt"
   ]
  },
  {
   "cell_type": "markdown",
   "id": "b889c002-687a-4b16-9e18-610891fff57f",
   "metadata": {},
   "source": [
    "### II) Cargar DataSet y crear el Dataframe:"
   ]
  },
  {
   "cell_type": "code",
   "execution_count": 47,
   "id": "a470f69a-20c6-47e9-bf87-b63e0c88fff8",
   "metadata": {},
   "outputs": [],
   "source": [
    "dataSet = pd.read_csv('Ventas-Original.csv')\n",
    "\n",
    "dataframe = pd.DataFrame(dataSet)"
   ]
  },
  {
   "cell_type": "markdown",
   "id": "ade37f35-5a1d-4898-8ec2-661166554fa9",
   "metadata": {},
   "source": [
    "### III) Descripcion del DataSet:"
   ]
  },
  {
   "cell_type": "markdown",
   "id": "f44fae1b-ff5a-4342-ae0b-d3b6e5bb8697",
   "metadata": {},
   "source": [
    "**1- Informacion General sobre el dataframe:**"
   ]
  },
  {
   "cell_type": "code",
   "execution_count": 48,
   "id": "63119d82-11c4-42c9-bc41-50338dcfe853",
   "metadata": {},
   "outputs": [
    {
     "name": "stdout",
     "output_type": "stream",
     "text": [
      "<class 'pandas.core.frame.DataFrame'>\n",
      "RangeIndex: 12014 entries, 0 to 12013\n",
      "Data columns (total 13 columns):\n",
      " #   Column            Non-Null Count  Dtype  \n",
      "---  ------            --------------  -----  \n",
      " 0   pais              12004 non-null  object \n",
      " 1   metodo_orden      12008 non-null  object \n",
      " 2   tipo_comercio     12005 non-null  object \n",
      " 3   linea             12004 non-null  object \n",
      " 4   tipo_producto     12008 non-null  object \n",
      " 5   producto          12005 non-null  object \n",
      " 6   año               12009 non-null  float64\n",
      " 7   cuatrimestre      12014 non-null  object \n",
      " 8   ventas            12009 non-null  object \n",
      " 9   cantidad          12009 non-null  float64\n",
      " 10  utilidad_bruta_p  12010 non-null  object \n",
      " 11  utilidad_bruta    12007 non-null  object \n",
      " 12  costos            12009 non-null  object \n",
      "dtypes: float64(2), object(11)\n",
      "memory usage: 1.2+ MB\n",
      "None\n"
     ]
    }
   ],
   "source": [
    "print(dataframe.info())"
   ]
  },
  {
   "cell_type": "markdown",
   "id": "cc1d7e6b-2a1a-4f55-b2dc-247b6b857091",
   "metadata": {},
   "source": [
    "*El resultado brinda informacion de la cantidad de columnas, sus nombres, tipoa de datos y que hay 12.014 filas y 13 columnas. No hay valores Nulos en las columnas*"
   ]
  },
  {
   "cell_type": "markdown",
   "id": "bf385cdf-df84-4e32-8b3b-06c7d433eefb",
   "metadata": {},
   "source": [
    "**2- Imprimir los primeros  10 registros del dataframe:**"
   ]
  },
  {
   "cell_type": "code",
   "execution_count": 49,
   "id": "2e384c57-5d29-47d0-9740-6f0c17f4a811",
   "metadata": {},
   "outputs": [
    {
     "name": "stdout",
     "output_type": "stream",
     "text": [
      "        pais   metodo_orden      tipo_comercio     linea tipo_producto  \\\n",
      "0  Argentina  Representante          Mayorista  Mascotas      Juguetes   \n",
      "1  Argentina           Mail      De proximidad  Mascotas      Juguetes   \n",
      "2  Argentina       Teléfono  Grandes Almacenes  Infantil       Calzado   \n",
      "3  Argentina        Website      Especializado    Hombre       Calzado   \n",
      "4  Argentina        Website      Especializado   Adultos    Vestimenta   \n",
      "5  Argentina        Website          Mayorista     Mujer        Lentes   \n",
      "6  Argentina       Teléfono      Especializado     Mujer    Vestimenta   \n",
      "7  Argentina  Representante       Hipermercado    Hombre        Lentes   \n",
      "8  Argentina  Representante  Grandes Almacenes  Mascotas      Juguetes   \n",
      "9  Argentina  Representante          Mayorista    Hombre       Calzado   \n",
      "\n",
      "                 producto     año cuatrimestre       ventas  cantidad  \\\n",
      "0        Anitibyx armatus  2019.0      C1 2019  $155.040,02   15562.0   \n",
      "1      Sarcorhamphus papa  2019.0      C1 2019  $144.314,49    1534.0   \n",
      "2     Oreamnos americanus  2019.0      C1 2019  $114.380,59    4036.0   \n",
      "3      Zosterops pallidus  2019.0      C1 2019  $144.097,85     991.0   \n",
      "4          Dusicyon thous  2019.0      C1 2019  $110.570,62    4679.0   \n",
      "5   Amphibolurus barbatus  2019.0      C1 2019  $155.013,07   12260.0   \n",
      "6        Chordeiles minor  2019.0      C1 2019   $92.599,10    7470.0   \n",
      "7  Eolophus roseicapillus  2019.0      C1 2019  $141.433,24   10678.0   \n",
      "8   Tamandua tetradactyla  2019.0      C1 2019  $169.592,83   13804.0   \n",
      "9      Zosterops pallidus  2019.0      C1 2019  $105.131,12    1446.0   \n",
      "\n",
      "  utilidad_bruta_p utilidad_bruta       costos  \n",
      "0           41,19%     $63.864,63   $91.175,39  \n",
      "1           57,57%     $83.084,42   $61.230,07  \n",
      "2           57,42%     $65.680,44   $48.700,15  \n",
      "3           27,39%     $39.475,34  $104.622,51  \n",
      "4           68,42%     $75.654,42   $34.916,20  \n",
      "5           59,69%     $92.534,23   $62.478,84  \n",
      "6           39,60%     $36.673,25   $55.925,85  \n",
      "7           64,09%     $90.649,51   $50.783,73  \n",
      "8           70,20%    $119.061,15   $50.531,68  \n",
      "9           69,64%     $73.216,31   $31.914,81  \n"
     ]
    }
   ],
   "source": [
    "print(dataframe.head(10))"
   ]
  },
  {
   "cell_type": "markdown",
   "id": "4e0e2df7-1d63-4184-a296-8ed93c1f842a",
   "metadata": {},
   "source": [
    "**3- Cantidad de registros y columnas:**"
   ]
  },
  {
   "cell_type": "code",
   "execution_count": 50,
   "id": "f37958c9-6025-4353-9616-455d9e90ce34",
   "metadata": {},
   "outputs": [
    {
     "name": "stdout",
     "output_type": "stream",
     "text": [
      "\n",
      "La Cantidad de registros son: 12014\n",
      "La Cantidad de columnas son: 13\n"
     ]
    }
   ],
   "source": [
    "cant_filas, cant_columnas = dataframe.shape\n",
    "\n",
    "print(\"\"\"\n",
    "La Cantidad de registros son: {}\n",
    "La Cantidad de columnas son: {}\"\"\".format(cant_filas, cant_columnas))"
   ]
  },
  {
   "cell_type": "markdown",
   "id": "745daf70-b136-47cf-a769-c86c50e42d58",
   "metadata": {},
   "source": [
    "**4- Cantidad de elementos que NO son nulos por columnas:**"
   ]
  },
  {
   "cell_type": "code",
   "execution_count": 51,
   "id": "cfef22a0-7bf8-4736-8f6e-d7cdedc71a50",
   "metadata": {},
   "outputs": [
    {
     "data": {
      "text/plain": [
       "pais                12004\n",
       "metodo_orden        12008\n",
       "tipo_comercio       12005\n",
       "linea               12004\n",
       "tipo_producto       12008\n",
       "producto            12005\n",
       "año                 12009\n",
       "cuatrimestre        12014\n",
       "ventas              12009\n",
       "cantidad            12009\n",
       "utilidad_bruta_p    12010\n",
       "utilidad_bruta      12007\n",
       "costos              12009\n",
       "dtype: int64"
      ]
     },
     "execution_count": 51,
     "metadata": {},
     "output_type": "execute_result"
    }
   ],
   "source": [
    "dataframe.count()"
   ]
  },
  {
   "cell_type": "markdown",
   "id": "28f2c8fb-4bbe-4f35-9357-494fabc2156b",
   "metadata": {},
   "source": [
    "**5-Tipos de Datos:**"
   ]
  },
  {
   "cell_type": "code",
   "execution_count": 52,
   "id": "d0729719-05cc-4c86-b0c0-38e028d2bd72",
   "metadata": {},
   "outputs": [
    {
     "name": "stdout",
     "output_type": "stream",
     "text": [
      "pais                 object\n",
      "metodo_orden         object\n",
      "tipo_comercio        object\n",
      "linea                object\n",
      "tipo_producto        object\n",
      "producto             object\n",
      "año                 float64\n",
      "cuatrimestre         object\n",
      "ventas               object\n",
      "cantidad            float64\n",
      "utilidad_bruta_p     object\n",
      "utilidad_bruta       object\n",
      "costos               object\n",
      "dtype: object\n"
     ]
    }
   ],
   "source": [
    "tipos_datos = dataframe.dtypes\n",
    "print(tipos_datos)"
   ]
  },
  {
   "cell_type": "markdown",
   "id": "988ffe13-29f6-4e34-8406-156daef09f11",
   "metadata": {},
   "source": [
    "*Verifico que hay columnas cuyos datos deberian ser del tipo entero o flotante, los cuales actualmente son del tipo objeto, por lo que deben ser modificados para poder realizar el analisis de los mismos*"
   ]
  },
  {
   "cell_type": "markdown",
   "id": "34aad416-f77b-47d2-a772-7f2f36285a93",
   "metadata": {},
   "source": [
    "### IV) Limpieza y Procesamiento de datos:"
   ]
  },
  {
   "cell_type": "markdown",
   "id": "96a0784c-34e8-40ec-b3df-f1fe701bc6c6",
   "metadata": {},
   "source": [
    "**1- Datos en Formato incorrecto:**\n",
    "\n",
    "Es necesario cambiar el tipo de dato de las columnas: *ventas, utilidad_bruta,  costos y utilidad_bruta_p*, del tipo objeto al tipo flotante, ya que verifico que los registros de las columnas ventas, utilidad_bruta y costos, originalmente tiene la siguiente sintaxis: \"$155.040,02\" y necesito que queden de la siguiente forma: \"155040.02\" , para poder obtener las medidas de tendencias centrales (media, mediana y desviacion estandar) asi como para realizar acciones de conteo. \n",
    "\n",
    "Para hacerlo seguiré los siguientes pasos:\n",
    "- eliminar los signos \"$\"\n",
    "- eliminar as \",\"\n",
    "- reemplazar los \".\" por \",\" (Ya que sino, no puedo cambiar el tipo de dato)"
   ]
  },
  {
   "cell_type": "markdown",
   "id": "3b394869-af65-408c-9ee3-648a5999a45f",
   "metadata": {},
   "source": [
    "**A- Reemplazar los signos \"$\" de las columnas: ventas, 'utilidad_bruta' y 'costos'**"
   ]
  },
  {
   "cell_type": "code",
   "execution_count": 53,
   "id": "5cbf214d-5b45-444e-8a4d-5262d24a0593",
   "metadata": {},
   "outputs": [],
   "source": [
    "dataframe['ventas'] = dataframe['ventas'].str.replace('$', '')\n",
    "dataframe['utilidad_bruta'] = dataframe['utilidad_bruta'].str.replace('$', '')\n",
    "dataframe['costos'] = dataframe['costos'].str.replace('$', '')"
   ]
  },
  {
   "cell_type": "markdown",
   "id": "e201c7f4-025b-408f-b87d-5a4e6b8f3c51",
   "metadata": {},
   "source": [
    "**B- Reemplazar los signos \".\" de las columnas: ventas, 'utilidad_bruta', 'costos' y 'cantidad'**"
   ]
  },
  {
   "cell_type": "code",
   "execution_count": 54,
   "id": "181c9f19-203a-43f5-a287-dab11085e126",
   "metadata": {},
   "outputs": [],
   "source": [
    "dataframe['ventas'] = dataframe['ventas'].str.replace('.', '')\n",
    "dataframe['utilidad_bruta'] = dataframe['utilidad_bruta'].str.replace('.', '')\n",
    "dataframe['costos'] = dataframe['costos'].str.replace('.', '')"
   ]
  },
  {
   "cell_type": "markdown",
   "id": "60cc3d31-f32c-4e23-a402-508c59432ccb",
   "metadata": {},
   "source": [
    "**C - Reemplazar los signos \",\" por \".\" de las columnas:ventas, , 'utilidad_bruta', 'costos' y 'cantidad'**"
   ]
  },
  {
   "cell_type": "code",
   "execution_count": 55,
   "id": "3fa29793-598c-4a18-bec7-8f8c066ae01f",
   "metadata": {},
   "outputs": [],
   "source": [
    "dataframe['ventas'] = dataframe['ventas'].str.replace(',', '.')\n",
    "dataframe['utilidad_bruta'] = dataframe['utilidad_bruta'].str.replace(',', '.')\n",
    "dataframe['costos'] = dataframe['costos'].str.replace(',', '.')"
   ]
  },
  {
   "cell_type": "markdown",
   "id": "385b5fb2-63e5-465b-9180-e17fdefa75d6",
   "metadata": {},
   "source": [
    "**D- Reemplazar los signos \"%\" por \"\" y \".\" por \",\" de la columna \"utilidad_bruta_p\"**"
   ]
  },
  {
   "cell_type": "code",
   "execution_count": 56,
   "id": "dad695c6-021f-4b26-8588-8572777e1bde",
   "metadata": {},
   "outputs": [],
   "source": [
    "dataframe['utilidad_bruta_p'] = dataframe['utilidad_bruta_p'].str.replace('%','')\n",
    "dataframe['utilidad_bruta_p'] = dataframe['utilidad_bruta_p'].str.replace(',','.')"
   ]
  },
  {
   "cell_type": "markdown",
   "id": "967e3b34-d97b-40d6-bc02-e63389caebfb",
   "metadata": {},
   "source": [
    "**E- Ahora si, puedo convertir cambiar el tipo de dato a float:**"
   ]
  },
  {
   "cell_type": "code",
   "execution_count": 57,
   "id": "6c6eabf4-8107-45ef-8ed8-ab4a0ec7deea",
   "metadata": {},
   "outputs": [],
   "source": [
    "dataframe[['ventas', 'utilidad_bruta', 'costos', 'utilidad_bruta_p']] = dataframe[['ventas', 'utilidad_bruta', 'costos', 'utilidad_bruta_p']].astype(float)"
   ]
  },
  {
   "cell_type": "markdown",
   "id": "115032b0-2dba-4a3f-8e81-656cda701490",
   "metadata": {},
   "source": [
    "**F-Tipos de datos finales:**"
   ]
  },
  {
   "cell_type": "code",
   "execution_count": 58,
   "id": "5716fe4d-8f14-4866-bd53-f191966efd47",
   "metadata": {},
   "outputs": [
    {
     "name": "stdout",
     "output_type": "stream",
     "text": [
      "pais                 object\n",
      "metodo_orden         object\n",
      "tipo_comercio        object\n",
      "linea                object\n",
      "tipo_producto        object\n",
      "producto             object\n",
      "año                 float64\n",
      "cuatrimestre         object\n",
      "ventas              float64\n",
      "cantidad            float64\n",
      "utilidad_bruta_p    float64\n",
      "utilidad_bruta      float64\n",
      "costos              float64\n",
      "dtype: object\n"
     ]
    }
   ],
   "source": [
    "tipos_datos = dataframe.dtypes\n",
    "print(tipos_datos)"
   ]
  },
  {
   "cell_type": "markdown",
   "id": "ed3daa48-a467-4b71-9c3d-4641fe187e3f",
   "metadata": {},
   "source": [
    "**2- Limpieza de celdas vacias:**"
   ]
  },
  {
   "cell_type": "markdown",
   "id": "080f4d53-250c-4340-803a-2882a66a0986",
   "metadata": {},
   "source": [
    "*Utilizo el metodo  dropna() para eliminar las filas que contengan celdas vacias, como deseo conservar el DataFrame original, utilizo el argumento inplace=True*"
   ]
  },
  {
   "cell_type": "code",
   "execution_count": 59,
   "id": "d1090bd4-5e34-4fef-bc0d-318197f1d105",
   "metadata": {},
   "outputs": [],
   "source": [
    "dataframe.dropna(inplace = True)"
   ]
  },
  {
   "cell_type": "markdown",
   "id": "45c2b827-616e-49d8-99dc-3026de708f36",
   "metadata": {},
   "source": [
    "*Verifico la cantidad de registros  resultantes luego de la limpieza:*"
   ]
  },
  {
   "cell_type": "code",
   "execution_count": 60,
   "id": "9ccec9c2-a968-4d57-a8e9-734e748206d9",
   "metadata": {},
   "outputs": [
    {
     "name": "stdout",
     "output_type": "stream",
     "text": [
      "Cantidad de registros: 11952. Cantidad de columnas: 13.\n"
     ]
    }
   ],
   "source": [
    "ncant_filas, ncant_columnas = dataframe.shape\n",
    "print(f\"Cantidad de registros: {ncant_filas}. Cantidad de columnas: {ncant_columnas}.\")"
   ]
  },
  {
   "cell_type": "markdown",
   "id": "150254cd-3714-4fa8-a923-72202aeadbbd",
   "metadata": {},
   "source": [
    "*De un total original de 12014 filas, quedaron 11952, lo que nos indica que habia 62 filas con celdas vacias*"
   ]
  },
  {
   "cell_type": "markdown",
   "id": "19ed8f0a-450c-4af7-9687-e3529fdf0e22",
   "metadata": {},
   "source": [
    "**3- Limpieza de filas duplicadas:**"
   ]
  },
  {
   "cell_type": "markdown",
   "id": "ad1f8760-24b5-4413-88a5-5a35123d72de",
   "metadata": {},
   "source": [
    "**A- Identificar las filas duplicadas:**\n",
    "\n",
    "*Uso el metodo duplicated() para identificar duplicados, como este metodo nos devuelve True si las filas estan duplicadas, no es practico de visualizar cuando son muchos registros, por lo que primero guardo el resultado en un nuevo dataset (filasRegistro), para luego recorrer cada celda  y guardar en un array el indice de aquellas que son  True (duplicados), asi poder llevar un control de cuales son las duplicadas.*"
   ]
  },
  {
   "cell_type": "code",
   "execution_count": 61,
   "id": "e535c0f3-fe27-45c2-8346-19e4b81012c2",
   "metadata": {},
   "outputs": [
    {
     "name": "stdout",
     "output_type": "stream",
     "text": [
      "Las filas duplicadas son: [11, 1973, 2001, 2009, 3499, 7091, 7871, 7908, 9269, 9301, 9677, 9679, 11750, 11778]\n"
     ]
    }
   ],
   "source": [
    "filasRegistro = dataframe.duplicated()\n",
    "filasDuplicadas = []\n",
    "\n",
    "for x in filasRegistro.index:\n",
    "  if filasRegistro.loc[x] == True:\n",
    "    filasDuplicadas.append(x)\n",
    "\n",
    "if len(filasDuplicadas) == 0:\n",
    "    print('No hay filas duplicadas')\n",
    "else:\n",
    "    print('Las filas duplicadas son: {}'.format(filasDuplicadas))"
   ]
  },
  {
   "cell_type": "markdown",
   "id": "2776b88b-6d19-4c77-8443-33964d226dc9",
   "metadata": {},
   "source": [
    "**B - Eliminar filas duplicadas:**"
   ]
  },
  {
   "cell_type": "code",
   "execution_count": 64,
   "id": "2915cf71-9fbc-46a5-ba5e-9938abae0bef",
   "metadata": {},
   "outputs": [],
   "source": [
    "dataframe.drop_duplicates(inplace = True)"
   ]
  },
  {
   "cell_type": "markdown",
   "id": "2d5cc3b7-92f3-4bc5-a10f-21aad5cecad6",
   "metadata": {},
   "source": [
    "*Verifico la cantidad de registros resultantes luego de la limpieza:*"
   ]
  },
  {
   "cell_type": "code",
   "execution_count": 65,
   "id": "5b9ba71c-6529-4b2a-afc3-5598300b54ab",
   "metadata": {},
   "outputs": [
    {
     "name": "stdout",
     "output_type": "stream",
     "text": [
      "Cantidad de registros resultantes: 11938. Cantidad de columnas: 13\n"
     ]
    }
   ],
   "source": [
    "cant_filas, cant_columnas = dataframe.shape\n",
    "print(f\"Cantidad de registros resultantes: {cant_filas}. Cantidad de columnas: {cant_columnas}\")"
   ]
  },
  {
   "cell_type": "markdown",
   "id": "031dd0be-3be3-43c6-96b8-7ef23981670d",
   "metadata": {},
   "source": [
    "*De un total original de 12.014 filas, pasamos a 11.952 y ahora nos quedan 11.938 lo que nos indica que habia 14 filas con celdas duplicadas*"
   ]
  },
  {
   "cell_type": "markdown",
   "id": "863c723a-79f1-4606-b36a-446625a05f84",
   "metadata": {},
   "source": [
    "### V) Estadísticas:"
   ]
  },
  {
   "cell_type": "markdown",
   "id": "bdaf6ec5-0607-4170-8149-55ed1ceef68b",
   "metadata": {},
   "source": [
    "**1- Informacion estadistica del dataset:**"
   ]
  },
  {
   "cell_type": "code",
   "execution_count": 67,
   "id": "609b9e2c-c643-4e1b-903a-9e2544f941e4",
   "metadata": {},
   "outputs": [
    {
     "data": {
      "text/html": [
       "<div>\n",
       "<style scoped>\n",
       "    .dataframe tbody tr th:only-of-type {\n",
       "        vertical-align: middle;\n",
       "    }\n",
       "\n",
       "    .dataframe tbody tr th {\n",
       "        vertical-align: top;\n",
       "    }\n",
       "\n",
       "    .dataframe thead th {\n",
       "        text-align: right;\n",
       "    }\n",
       "</style>\n",
       "<table border=\"1\" class=\"dataframe\">\n",
       "  <thead>\n",
       "    <tr style=\"text-align: right;\">\n",
       "      <th></th>\n",
       "      <th>año</th>\n",
       "      <th>ventas</th>\n",
       "      <th>cantidad</th>\n",
       "      <th>utilidad_bruta_p</th>\n",
       "      <th>utilidad_bruta</th>\n",
       "      <th>costos</th>\n",
       "    </tr>\n",
       "  </thead>\n",
       "  <tbody>\n",
       "    <tr>\n",
       "      <th>count</th>\n",
       "      <td>11938.00</td>\n",
       "      <td>11938.00</td>\n",
       "      <td>11938.00</td>\n",
       "      <td>11938.00</td>\n",
       "      <td>11938.00</td>\n",
       "      <td>11938.00</td>\n",
       "    </tr>\n",
       "    <tr>\n",
       "      <th>mean</th>\n",
       "      <td>2184.32</td>\n",
       "      <td>137962.21</td>\n",
       "      <td>9001.98</td>\n",
       "      <td>49.90</td>\n",
       "      <td>68879.06</td>\n",
       "      <td>69148.05</td>\n",
       "    </tr>\n",
       "    <tr>\n",
       "      <th>std</th>\n",
       "      <td>5227.81</td>\n",
       "      <td>27455.12</td>\n",
       "      <td>4911.78</td>\n",
       "      <td>14.78</td>\n",
       "      <td>24821.31</td>\n",
       "      <td>24830.83</td>\n",
       "    </tr>\n",
       "    <tr>\n",
       "      <th>min</th>\n",
       "      <td>2019.00</td>\n",
       "      <td>0.00</td>\n",
       "      <td>-9049.00</td>\n",
       "      <td>24.58</td>\n",
       "      <td>22407.08</td>\n",
       "      <td>22339.56</td>\n",
       "    </tr>\n",
       "    <tr>\n",
       "      <th>25%</th>\n",
       "      <td>2019.00</td>\n",
       "      <td>114467.48</td>\n",
       "      <td>4750.25</td>\n",
       "      <td>37.16</td>\n",
       "      <td>49138.76</td>\n",
       "      <td>49477.16</td>\n",
       "    </tr>\n",
       "    <tr>\n",
       "      <th>50%</th>\n",
       "      <td>2020.00</td>\n",
       "      <td>137784.54</td>\n",
       "      <td>8998.50</td>\n",
       "      <td>49.72</td>\n",
       "      <td>66374.43</td>\n",
       "      <td>66511.94</td>\n",
       "    </tr>\n",
       "    <tr>\n",
       "      <th>75%</th>\n",
       "      <td>2021.00</td>\n",
       "      <td>161712.22</td>\n",
       "      <td>13243.25</td>\n",
       "      <td>62.89</td>\n",
       "      <td>85773.92</td>\n",
       "      <td>86449.10</td>\n",
       "    </tr>\n",
       "    <tr>\n",
       "      <th>max</th>\n",
       "      <td>201900.00</td>\n",
       "      <td>185644.24</td>\n",
       "      <td>17521.00</td>\n",
       "      <td>75.40</td>\n",
       "      <td>138447.51</td>\n",
       "      <td>139072.81</td>\n",
       "    </tr>\n",
       "  </tbody>\n",
       "</table>\n",
       "</div>"
      ],
      "text/plain": [
       "             año     ventas  cantidad  utilidad_bruta_p  utilidad_bruta  \\\n",
       "count   11938.00   11938.00  11938.00          11938.00        11938.00   \n",
       "mean     2184.32  137962.21   9001.98             49.90        68879.06   \n",
       "std      5227.81   27455.12   4911.78             14.78        24821.31   \n",
       "min      2019.00       0.00  -9049.00             24.58        22407.08   \n",
       "25%      2019.00  114467.48   4750.25             37.16        49138.76   \n",
       "50%      2020.00  137784.54   8998.50             49.72        66374.43   \n",
       "75%      2021.00  161712.22  13243.25             62.89        85773.92   \n",
       "max    201900.00  185644.24  17521.00             75.40       138447.51   \n",
       "\n",
       "          costos  \n",
       "count   11938.00  \n",
       "mean    69148.05  \n",
       "std     24830.83  \n",
       "min     22339.56  \n",
       "25%     49477.16  \n",
       "50%     66511.94  \n",
       "75%     86449.10  \n",
       "max    139072.81  "
      ]
     },
     "execution_count": 67,
     "metadata": {},
     "output_type": "execute_result"
    }
   ],
   "source": [
    "infoEstadistica = dataframe.describe()\n",
    "infoEstadistica.round(2)"
   ]
  },
  {
   "cell_type": "markdown",
   "id": "285d6548-788d-45b6-b044-1d9eeaecaea4",
   "metadata": {},
   "source": [
    "**2- Media:**"
   ]
  },
  {
   "cell_type": "code",
   "execution_count": 70,
   "id": "44577692-2c95-41f4-8ab0-46f0cbbfa51b",
   "metadata": {},
   "outputs": [
    {
     "name": "stdout",
     "output_type": "stream",
     "text": [
      "\n",
      "La media de ventas es: $137962.21 \n",
      "La media de la cantidad de productos es: 9001.98 \n",
      "La media de utilidades brutas es: $68879.06 \n",
      "La media de costos es: $69148.05\n",
      "\n"
     ]
    }
   ],
   "source": [
    "# media de Ventas:\n",
    "media_ventas = dataframe['ventas'].mean()\n",
    "\n",
    "# media de Cantidad de productos:\n",
    "media_cant_productos = dataframe['cantidad'].mean()\n",
    "\n",
    "# media de Utilidad Bruta:\n",
    "media_utilidad_bruta = dataframe['utilidad_bruta'].mean()\n",
    "\n",
    "# media de costos:\n",
    "media_costos =  dataframe['costos'].mean()\n",
    "\n",
    "\n",
    "print(\"\"\"\n",
    "La media de ventas es: ${} \n",
    "La media de la cantidad de productos es: {} \n",
    "La media de utilidades brutas es: ${} \n",
    "La media de costos es: ${}\n",
    "\"\"\".format(media_ventas.round(2), media_cant_productos.round(2), media_utilidad_bruta.round(2), media_costos.round(2)))"
   ]
  },
  {
   "cell_type": "markdown",
   "id": "1c17872a-ee56-48bd-b151-80d7508fd581",
   "metadata": {},
   "source": [
    "**3- Mediana:**"
   ]
  },
  {
   "cell_type": "code",
   "execution_count": 71,
   "id": "e77ea792-658b-41e9-a051-55dd52dd88d5",
   "metadata": {},
   "outputs": [
    {
     "name": "stdout",
     "output_type": "stream",
     "text": [
      "\n",
      "La mediana de ventas es: $137784.53999999998 \n",
      "La mediana de la cantidad de productos es: 8998.5 \n",
      "La mediana de utilidades brutas es: $66374.43 \n",
      "La mediana de costos es: $66511.94\n",
      "\n"
     ]
    }
   ],
   "source": [
    "# mediana de Ventas:\n",
    "mediana_ventas = dataframe['ventas'].median()\n",
    "\n",
    "# mediana de Cantidad de productos:\n",
    "mediana_cant_productos = dataframe['cantidad'].median()\n",
    "\n",
    "# mediana de Utilidad Bruta:\n",
    "mediana_utilidad_bruta = dataframe['utilidad_bruta'].median()\n",
    "\n",
    "# mediana de costos:\n",
    "mediana_costos =  dataframe['costos'].median()\n",
    "\n",
    "\n",
    "print(\"\"\"\n",
    "La mediana de ventas es: ${} \n",
    "La mediana de la cantidad de productos es: {} \n",
    "La mediana de utilidades brutas es: ${} \n",
    "La mediana de costos es: ${}\n",
    "\"\"\".format(mediana_ventas, mediana_cant_productos, mediana_utilidad_bruta, mediana_costos))"
   ]
  },
  {
   "cell_type": "markdown",
   "id": "552e8052-7d2e-4169-88b5-84d58a1943c3",
   "metadata": {},
   "source": [
    "**4- Desviacion Estandar:**"
   ]
  },
  {
   "cell_type": "code",
   "execution_count": 73,
   "id": "f5bc8a7c-0514-426f-b228-3bb87c34fac0",
   "metadata": {},
   "outputs": [
    {
     "name": "stdout",
     "output_type": "stream",
     "text": [
      "\n",
      "La desviación estándar de ventas es: $27455.12323591594\n",
      "La Desviación estándar de cantidad de productos es: 4911.7777816223315\n",
      "La desviación estándar de utilidad bruta es: 24821.312374768153\n",
      "La desviacion estandar de costos es: 24830.833115365098\n"
     ]
    }
   ],
   "source": [
    "# Desviacion estándar en ventas:\n",
    "desviacion_ventas = dataframe['ventas'].std()\n",
    "\n",
    "#Desviación estándar de Cantidad de Productos:\n",
    "desviacion_cant_productos = dataframe['cantidad'].std()\n",
    "\n",
    "#Desviación estándar de utilidad bruta:\n",
    "desviacion_utilidad_bruta = dataframe['utilidad_bruta'].std()\n",
    "\n",
    "#Desviacion estándar de costos:\n",
    "desviacion_costos = dataframe['costos'].std()\n",
    "\n",
    "print(\"\"\"\n",
    "La desviación estándar de ventas es: ${}\n",
    "La Desviación estándar de cantidad de productos es: {}\n",
    "La desviación estándar de utilidad bruta es: {}\n",
    "La desviacion estandar de costos es: {}\"\"\".format(desviacion_ventas, desviacion_cant_productos, desviacion_utilidad_bruta, desviacion_costos))"
   ]
  }
 ],
 "metadata": {
  "kernelspec": {
   "display_name": "Python 3 (ipykernel)",
   "language": "python",
   "name": "python3"
  },
  "language_info": {
   "codemirror_mode": {
    "name": "ipython",
    "version": 3
   },
   "file_extension": ".py",
   "mimetype": "text/x-python",
   "name": "python",
   "nbconvert_exporter": "python",
   "pygments_lexer": "ipython3",
   "version": "3.11.7"
  }
 },
 "nbformat": 4,
 "nbformat_minor": 5
}
