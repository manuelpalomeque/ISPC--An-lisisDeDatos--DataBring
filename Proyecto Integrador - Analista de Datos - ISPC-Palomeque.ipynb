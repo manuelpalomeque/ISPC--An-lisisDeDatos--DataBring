{
 "cells": [
  {
   "cell_type": "markdown",
   "id": "e4783e10-f3c8-44fc-8002-b920e84fc22c",
   "metadata": {},
   "source": [
    "# Proyecto integrador para el Módulo de analista de Datos - ISPC\n",
    "\n",
    "#### Módulo: Analista de datos (Estádistica y Exploración de datos, Ciencia de Datos y Procesamiento de Datos)\n",
    "#### Alumno: PALOMEQUE, Jonathan Manuel\n",
    "#### Carrera: Tecnicatura Superior en Ciencia de datos e IA\n",
    "#### Institución: Instituto Superior Politécnico Córdoba (ISPC)\n",
    "#### Año: 2024"
   ]
  },
  {
   "cell_type": "markdown",
   "id": "ad517c7e-f6a6-499e-a9dd-0b8a7ba04d7e",
   "metadata": {},
   "source": [
    "## Desarrollo del proyecto: "
   ]
  },
  {
   "cell_type": "markdown",
   "id": "c6647742-d6fc-4be3-8c5b-4b66f60e7d28",
   "metadata": {},
   "source": [
    "### I) Importar Pandas, Numpy y Matplotlib:"
   ]
  },
  {
   "cell_type": "code",
   "execution_count": 1,
   "id": "312fb8ed-9510-4d4a-976c-1e3d2247a38b",
   "metadata": {},
   "outputs": [],
   "source": [
    "import numpy as np\n",
    "import pandas as pd\n",
    "import matplotlib.pyplot as plt"
   ]
  },
  {
   "cell_type": "markdown",
   "id": "b889c002-687a-4b16-9e18-610891fff57f",
   "metadata": {},
   "source": [
    "### II) Cargar DataSet y crear el Dataframe:"
   ]
  },
  {
   "cell_type": "code",
   "execution_count": 2,
   "id": "a470f69a-20c6-47e9-bf87-b63e0c88fff8",
   "metadata": {},
   "outputs": [],
   "source": [
    "dataSet = pd.read_csv('Ventas-Original.csv')\n",
    "\n",
    "dataframe = pd.DataFrame(dataSet)"
   ]
  },
  {
   "cell_type": "markdown",
   "id": "ade37f35-5a1d-4898-8ec2-661166554fa9",
   "metadata": {},
   "source": [
    "### III) Descripcion del DataSet:"
   ]
  },
  {
   "cell_type": "markdown",
   "id": "f44fae1b-ff5a-4342-ae0b-d3b6e5bb8697",
   "metadata": {},
   "source": [
    "**1- Informacion General sobre el dataframe:**"
   ]
  },
  {
   "cell_type": "code",
   "execution_count": 3,
   "id": "63119d82-11c4-42c9-bc41-50338dcfe853",
   "metadata": {},
   "outputs": [
    {
     "name": "stdout",
     "output_type": "stream",
     "text": [
      "<class 'pandas.core.frame.DataFrame'>\n",
      "RangeIndex: 12014 entries, 0 to 12013\n",
      "Data columns (total 13 columns):\n",
      " #   Column            Non-Null Count  Dtype  \n",
      "---  ------            --------------  -----  \n",
      " 0   pais              12004 non-null  object \n",
      " 1   metodo_orden      12008 non-null  object \n",
      " 2   tipo_comercio     12005 non-null  object \n",
      " 3   linea             12004 non-null  object \n",
      " 4   tipo_producto     12008 non-null  object \n",
      " 5   producto          12005 non-null  object \n",
      " 6   año               12009 non-null  float64\n",
      " 7   cuatrimestre      12014 non-null  object \n",
      " 8   ventas            12009 non-null  object \n",
      " 9   cantidad          12009 non-null  float64\n",
      " 10  utilidad_bruta_p  12010 non-null  object \n",
      " 11  utilidad_bruta    12007 non-null  object \n",
      " 12  costos            12009 non-null  object \n",
      "dtypes: float64(2), object(11)\n",
      "memory usage: 1.2+ MB\n",
      "None\n"
     ]
    }
   ],
   "source": [
    "print(dataframe.info())"
   ]
  },
  {
   "cell_type": "markdown",
   "id": "cc1d7e6b-2a1a-4f55-b2dc-247b6b857091",
   "metadata": {},
   "source": [
    "*El resultado brinda informacion de la cantidad de columnas, sus nombres, tipoa de datos y que hay 12.014 filas y 13 columnas. No hay valores Nulos en las columnas*"
   ]
  },
  {
   "cell_type": "markdown",
   "id": "bf385cdf-df84-4e32-8b3b-06c7d433eefb",
   "metadata": {},
   "source": [
    "**2- Imprimir los primeros  10 registros del dataframe:**"
   ]
  },
  {
   "cell_type": "code",
   "execution_count": 4,
   "id": "2e384c57-5d29-47d0-9740-6f0c17f4a811",
   "metadata": {},
   "outputs": [
    {
     "name": "stdout",
     "output_type": "stream",
     "text": [
      "        pais   metodo_orden      tipo_comercio     linea tipo_producto  \\\n",
      "0  Argentina  Representante          Mayorista  Mascotas      Juguetes   \n",
      "1  Argentina           Mail      De proximidad  Mascotas      Juguetes   \n",
      "2  Argentina       Teléfono  Grandes Almacenes  Infantil       Calzado   \n",
      "3  Argentina        Website      Especializado    Hombre       Calzado   \n",
      "4  Argentina        Website      Especializado   Adultos    Vestimenta   \n",
      "5  Argentina        Website          Mayorista     Mujer        Lentes   \n",
      "6  Argentina       Teléfono      Especializado     Mujer    Vestimenta   \n",
      "7  Argentina  Representante       Hipermercado    Hombre        Lentes   \n",
      "8  Argentina  Representante  Grandes Almacenes  Mascotas      Juguetes   \n",
      "9  Argentina  Representante          Mayorista    Hombre       Calzado   \n",
      "\n",
      "                 producto     año cuatrimestre       ventas  cantidad  \\\n",
      "0        Anitibyx armatus  2019.0      C1 2019  $155.040,02   15562.0   \n",
      "1      Sarcorhamphus papa  2019.0      C1 2019  $144.314,49    1534.0   \n",
      "2     Oreamnos americanus  2019.0      C1 2019  $114.380,59    4036.0   \n",
      "3      Zosterops pallidus  2019.0      C1 2019  $144.097,85     991.0   \n",
      "4          Dusicyon thous  2019.0      C1 2019  $110.570,62    4679.0   \n",
      "5   Amphibolurus barbatus  2019.0      C1 2019  $155.013,07   12260.0   \n",
      "6        Chordeiles minor  2019.0      C1 2019   $92.599,10    7470.0   \n",
      "7  Eolophus roseicapillus  2019.0      C1 2019  $141.433,24   10678.0   \n",
      "8   Tamandua tetradactyla  2019.0      C1 2019  $169.592,83   13804.0   \n",
      "9      Zosterops pallidus  2019.0      C1 2019  $105.131,12    1446.0   \n",
      "\n",
      "  utilidad_bruta_p utilidad_bruta       costos  \n",
      "0           41,19%     $63.864,63   $91.175,39  \n",
      "1           57,57%     $83.084,42   $61.230,07  \n",
      "2           57,42%     $65.680,44   $48.700,15  \n",
      "3           27,39%     $39.475,34  $104.622,51  \n",
      "4           68,42%     $75.654,42   $34.916,20  \n",
      "5           59,69%     $92.534,23   $62.478,84  \n",
      "6           39,60%     $36.673,25   $55.925,85  \n",
      "7           64,09%     $90.649,51   $50.783,73  \n",
      "8           70,20%    $119.061,15   $50.531,68  \n",
      "9           69,64%     $73.216,31   $31.914,81  \n"
     ]
    }
   ],
   "source": [
    "print(dataframe.head(10))"
   ]
  },
  {
   "cell_type": "markdown",
   "id": "4e0e2df7-1d63-4184-a296-8ed93c1f842a",
   "metadata": {},
   "source": [
    "**3- Cantidad de registros y columnas:**"
   ]
  },
  {
   "cell_type": "code",
   "execution_count": 5,
   "id": "f37958c9-6025-4353-9616-455d9e90ce34",
   "metadata": {},
   "outputs": [
    {
     "name": "stdout",
     "output_type": "stream",
     "text": [
      "\n",
      "La Cantidad de registros son: 12014\n",
      "La Cantidad de columnas son: 13\n"
     ]
    }
   ],
   "source": [
    "cant_filas, cant_columnas = dataframe.shape\n",
    "\n",
    "print(\"\"\"\n",
    "La Cantidad de registros son: {}\n",
    "La Cantidad de columnas son: {}\"\"\".format(cant_filas, cant_columnas))"
   ]
  },
  {
   "cell_type": "markdown",
   "id": "745daf70-b136-47cf-a769-c86c50e42d58",
   "metadata": {},
   "source": [
    "**4- Cantidad de elementos que NO son nulos por columnas:**"
   ]
  },
  {
   "cell_type": "code",
   "execution_count": 6,
   "id": "cfef22a0-7bf8-4736-8f6e-d7cdedc71a50",
   "metadata": {},
   "outputs": [
    {
     "data": {
      "text/plain": [
       "pais                12004\n",
       "metodo_orden        12008\n",
       "tipo_comercio       12005\n",
       "linea               12004\n",
       "tipo_producto       12008\n",
       "producto            12005\n",
       "año                 12009\n",
       "cuatrimestre        12014\n",
       "ventas              12009\n",
       "cantidad            12009\n",
       "utilidad_bruta_p    12010\n",
       "utilidad_bruta      12007\n",
       "costos              12009\n",
       "dtype: int64"
      ]
     },
     "execution_count": 6,
     "metadata": {},
     "output_type": "execute_result"
    }
   ],
   "source": [
    "dataframe.count()"
   ]
  },
  {
   "cell_type": "markdown",
   "id": "28f2c8fb-4bbe-4f35-9357-494fabc2156b",
   "metadata": {},
   "source": [
    "**5-Tipos de Datos:**"
   ]
  },
  {
   "cell_type": "code",
   "execution_count": 7,
   "id": "d0729719-05cc-4c86-b0c0-38e028d2bd72",
   "metadata": {},
   "outputs": [
    {
     "name": "stdout",
     "output_type": "stream",
     "text": [
      "pais                 object\n",
      "metodo_orden         object\n",
      "tipo_comercio        object\n",
      "linea                object\n",
      "tipo_producto        object\n",
      "producto             object\n",
      "año                 float64\n",
      "cuatrimestre         object\n",
      "ventas               object\n",
      "cantidad            float64\n",
      "utilidad_bruta_p     object\n",
      "utilidad_bruta       object\n",
      "costos               object\n",
      "dtype: object\n"
     ]
    }
   ],
   "source": [
    "tipos_datos = dataframe.dtypes\n",
    "print(tipos_datos)"
   ]
  },
  {
   "cell_type": "markdown",
   "id": "988ffe13-29f6-4e34-8406-156daef09f11",
   "metadata": {},
   "source": [
    "*Verifico que hay columnas cuyos datos deberian ser del tipo entero o flotante, los cuales actualmente son del tipo objeto, por lo que deben ser modificados para poder realizar el analisis de los mismos*"
   ]
  },
  {
   "cell_type": "markdown",
   "id": "cc5bceb6-e90b-406d-8cb4-ef2ae7c1cbe7",
   "metadata": {},
   "source": [
    "**6- Verificar tipos unicos de Columnas categoricas:**"
   ]
  },
  {
   "cell_type": "markdown",
   "id": "7f36cc0c-89d8-4bc4-b5c4-490178d925f6",
   "metadata": {},
   "source": [
    "**A- Verificar tipos unicos por columna Pais:**"
   ]
  },
  {
   "cell_type": "code",
   "execution_count": 9,
   "id": "05c4662f-c56c-42cf-a70f-928ebf2ce7a1",
   "metadata": {},
   "outputs": [
    {
     "data": {
      "text/plain": [
       "array(['Argentina', 'Bolivia', 'Brazil', 'Belize', 'Canada', 'Chile',\n",
       "       'China', 'Colombia', 'Costa Rica', 'Germany', 'Dominican Republic',\n",
       "       'Ecuador', 'Guatemala', 'Honduras', 'Italy', 'Kazakhstan',\n",
       "       'Mexico', 'Nicaragua', 'Panama', 'Peru', 'Puerto Rico', 'Paraguay',\n",
       "       'El Salvador', 'United States', 'Uruguay', 'Venezuela', 'Bermuda',\n",
       "       'Aruba', nan], dtype=object)"
      ]
     },
     "execution_count": 9,
     "metadata": {},
     "output_type": "execute_result"
    }
   ],
   "source": [
    "tiposPaisesUnicos = dataframe['pais'].unique()\n",
    "tiposPaisesUnicos"
   ]
  },
  {
   "cell_type": "markdown",
   "id": "205255d9-d6ff-4cf4-9a8d-f33597d2c935",
   "metadata": {},
   "source": [
    "**B- Verificar tipos unicos por columna metodo_orden:**"
   ]
  },
  {
   "cell_type": "code",
   "execution_count": 10,
   "id": "b6855e2f-c433-4aff-94c6-7ffa16461dc8",
   "metadata": {},
   "outputs": [
    {
     "data": {
      "text/plain": [
       "array(['Representante', 'Mail', 'Teléfono', 'Website', 'Especial',\n",
       "       'MercadoLibre', nan], dtype=object)"
      ]
     },
     "execution_count": 10,
     "metadata": {},
     "output_type": "execute_result"
    }
   ],
   "source": [
    "tiposMOUnicos = dataframe['metodo_orden'].unique()\n",
    "tiposMOUnicos"
   ]
  },
  {
   "cell_type": "markdown",
   "id": "800022dc-94a4-48db-af49-22f816e3d259",
   "metadata": {},
   "source": [
    "**C- Verificar tipos unicos por columna tipo_comercio:**"
   ]
  },
  {
   "cell_type": "code",
   "execution_count": 11,
   "id": "f1d5e16c-e49c-43e5-bc31-6c58236ecdcd",
   "metadata": {},
   "outputs": [
    {
     "data": {
      "text/plain": [
       "array(['Mayorista', 'De proximidad', 'Grandes Almacenes', 'Especializado',\n",
       "       'Hipermercado', nan], dtype=object)"
      ]
     },
     "execution_count": 11,
     "metadata": {},
     "output_type": "execute_result"
    }
   ],
   "source": [
    "tiposComercioUnicos = dataframe['tipo_comercio'].unique()\n",
    "tiposComercioUnicos"
   ]
  },
  {
   "cell_type": "markdown",
   "id": "4f227093-0c04-4c4a-9790-91938d65cc75",
   "metadata": {},
   "source": [
    "**D- Verificar tipos unicos por columna linea:**"
   ]
  },
  {
   "cell_type": "code",
   "execution_count": 12,
   "id": "d37c1182-cf49-44e1-96bf-bd62ad75f29c",
   "metadata": {},
   "outputs": [
    {
     "data": {
      "text/plain": [
       "array(['Mascotas', 'Infantil', 'Hombre', 'Adultos', 'Mujer', 'Unisex',\n",
       "       nan], dtype=object)"
      ]
     },
     "execution_count": 12,
     "metadata": {},
     "output_type": "execute_result"
    }
   ],
   "source": [
    "tiposLineaUnicos = dataframe['linea'].unique()\n",
    "tiposLineaUnicos"
   ]
  },
  {
   "cell_type": "markdown",
   "id": "75b9e162-b61b-4f42-a160-2b40eb2e7349",
   "metadata": {},
   "source": [
    "**E- Verificar tipos unicos por columna tipo_producto:**"
   ]
  },
  {
   "cell_type": "code",
   "execution_count": 13,
   "id": "ce612e43-5363-4d1a-b004-364270c03a12",
   "metadata": {},
   "outputs": [
    {
     "data": {
      "text/plain": [
       "array(['Juguetes', 'Calzado', 'Vestimenta', 'Lentes', 'Joyas',\n",
       "       'Accesorios', nan], dtype=object)"
      ]
     },
     "execution_count": 13,
     "metadata": {},
     "output_type": "execute_result"
    }
   ],
   "source": [
    "tiposProductoUnicos = dataframe['tipo_producto'].unique()\n",
    "tiposProductoUnicos"
   ]
  },
  {
   "cell_type": "markdown",
   "id": "8abc273b-e22d-4168-9f45-08237e998e4e",
   "metadata": {},
   "source": [
    "**F- Verificar tipos unicos por columna producto:**"
   ]
  },
  {
   "cell_type": "code",
   "execution_count": 14,
   "id": "0012ebfc-ec40-4532-9121-ccb0e101989b",
   "metadata": {},
   "outputs": [
    {
     "data": {
      "text/plain": [
       "array(['Anitibyx armatus', 'Sarcorhamphus papa', 'Oreamnos americanus',\n",
       "       'Zosterops pallidus', 'Dusicyon thous', 'Amphibolurus barbatus',\n",
       "       'Chordeiles minor', 'Eolophus roseicapillus',\n",
       "       'Tamandua tetradactyla', 'Meles meles', 'Speotyte cuniculata',\n",
       "       'Sus scrofa', 'Eubalaena australis', 'Falco mexicanus',\n",
       "       'Larus novaehollandiae', 'Butorides striatus', 'Eudyptula minor',\n",
       "       'Francolinus swainsonii', 'Phalaropus fulicarius',\n",
       "       'Grus canadensis', 'Isoodon obesulus', 'Genetta genetta',\n",
       "       'Phoenicopterus ruber', 'Spermophilus parryii', 'Hyaena hyaena',\n",
       "       'Myiarchus tuberculifer', 'Antilocapra americana',\n",
       "       'Phalaropus lobatus', 'Phalacrocorax carbo',\n",
       "       'Phalacrocorax brasilianus', 'Phoeniconaias minor', 'Crax sp.',\n",
       "       'Chelodina longicollis', 'Antilope cervicapra',\n",
       "       'Heloderma horridum', 'Diomedea irrorata', 'Carduelis pinus',\n",
       "       'Theropithecus gelada', 'Anthropoides paradisea',\n",
       "       'Ninox superciliaris', 'Macropus rufogriseus',\n",
       "       'Coluber constrictor', 'Bison bison', 'Deroptyus accipitrinus',\n",
       "       'Dasyurus maculatus', 'Phylurus milli',\n",
       "       'Hymenolaimus malacorhynchus', 'Junonia genoveua',\n",
       "       'Platalea leucordia', 'Kobus defassa', 'Boselaphus tragocamelus',\n",
       "       'Orcinus orca', 'Cygnus atratus', 'Ovis canadensis',\n",
       "       'Hyaena brunnea', 'Naja haje', 'Sylvicapra grimma',\n",
       "       'Sciurus vulgaris', 'Tayassu pecari', 'Pavo cristatus',\n",
       "       'Crotaphytus collaris', 'Cacatua tenuirostris', 'Anhinga rufa',\n",
       "       'Camelopardalis', 'Galictis vittata', 'Lycaon pictus',\n",
       "       'Spermophilus tridecemlineatus', 'Rhea americana',\n",
       "       'Geococcyx californianus', 'Tiliqua scincoides', 'Canis aureus',\n",
       "       'Corvus albus', 'Canis latrans', 'Odocoileus hemionus',\n",
       "       'Eremophila alpestris', 'Megaderma spasma', 'Mazama gouazoubira',\n",
       "       'Ceratotherium simum', 'Limnocorax flavirostra', 'unavailable',\n",
       "       'Arctogalidia trivirgata', 'Tursiops truncatus',\n",
       "       'Otaria flavescens', 'Lasiorhinus latifrons',\n",
       "       'Dendrocygna viduata', 'Nasua nasua', 'Erinaceus frontalis',\n",
       "       'Colobus guerza', 'Dasyurus viverrinus', 'Camelus dromedarius',\n",
       "       'Tetracerus quadricornis', 'Pseudalopex gymnocercus',\n",
       "       'Paraxerus cepapi', 'Bassariscus astutus',\n",
       "       'Ammospermophilus nelsoni', 'Sarcophilus harrisii',\n",
       "       'Sylvilagus floridanus', 'Dicrurus adsimilis',\n",
       "       'Colaptes campestroides', 'Gazella thompsonii',\n",
       "       'Lamprotornis nitens', 'Equus hemionus',\n",
       "       'Cyrtodactylus louisiadensis', 'Ardea cinerea', nan], dtype=object)"
      ]
     },
     "execution_count": 14,
     "metadata": {},
     "output_type": "execute_result"
    }
   ],
   "source": [
    "tiposProUnicos = dataframe['producto'].unique()\n",
    "tiposProUnicos"
   ]
  },
  {
   "cell_type": "markdown",
   "id": "4d27f316-c13a-4354-b569-cd05b57d71eb",
   "metadata": {},
   "source": [
    "**G- Verificar tipos unicos por columna cuatrimestre:**"
   ]
  },
  {
   "cell_type": "code",
   "execution_count": 15,
   "id": "342937d5-1d59-4b1e-8203-27e359e364d1",
   "metadata": {},
   "outputs": [
    {
     "data": {
      "text/plain": [
       "array(['C1 2019', 'C2 2019', 'C3 2019', 'C4 2019', 'C1 2020', 'C2 2020',\n",
       "       'C3 2020', 'C4 2020', 'C1 2021', 'C2 2021', 'C3 2021', 'C4 2021'],\n",
       "      dtype=object)"
      ]
     },
     "execution_count": 15,
     "metadata": {},
     "output_type": "execute_result"
    }
   ],
   "source": [
    "tiposCuatrimestreUnicos = dataframe['cuatrimestre'].unique()\n",
    "tiposCuatrimestreUnicos"
   ]
  },
  {
   "cell_type": "markdown",
   "id": "042edd7a-7ca5-419b-b441-d321c18bdd3c",
   "metadata": {},
   "source": [
    "**H- Verificar tipos unicos por columna año:**"
   ]
  },
  {
   "cell_type": "code",
   "execution_count": 16,
   "id": "cf5fc10a-7ab5-4cd9-bae4-8eed8e21c9fa",
   "metadata": {},
   "outputs": [
    {
     "data": {
      "text/plain": [
       "array([  2019., 201900.,   2020.,     nan,  22020.,  20020.,   2021.,\n",
       "        20021.,  20211.,  20221.])"
      ]
     },
     "execution_count": 16,
     "metadata": {},
     "output_type": "execute_result"
    }
   ],
   "source": [
    "tiposAñoUnicos = dataframe['año'].unique()\n",
    "tiposAñoUnicos"
   ]
  },
  {
   "cell_type": "markdown",
   "id": "bfeeeeab-1d69-4881-9be3-527102bb97b0",
   "metadata": {},
   "source": [
    "*Se verifica una inconsisitencia en los datos, ya que aparecen datos incorrectos, en los años, los cuales seran solucionados en la etapa de limpieza y procesamiento de datos*"
   ]
  },
  {
   "cell_type": "markdown",
   "id": "34aad416-f77b-47d2-a772-7f2f36285a93",
   "metadata": {},
   "source": [
    "### IV) Limpieza y Procesamiento de datos:"
   ]
  },
  {
   "cell_type": "markdown",
   "id": "ed3daa48-a467-4b71-9c3d-4641fe187e3f",
   "metadata": {},
   "source": [
    "**1- Limpieza de celdas vacias:**"
   ]
  },
  {
   "cell_type": "markdown",
   "id": "080f4d53-250c-4340-803a-2882a66a0986",
   "metadata": {},
   "source": [
    "*Utilizo el metodo  dropna() para eliminar las filas que contengan celdas vacias, como deseo conservar el DataFrame original, utilizo el argumento inplace=True*"
   ]
  },
  {
   "cell_type": "code",
   "execution_count": 17,
   "id": "d1090bd4-5e34-4fef-bc0d-318197f1d105",
   "metadata": {},
   "outputs": [],
   "source": [
    "dataframe.dropna(inplace = True)"
   ]
  },
  {
   "cell_type": "markdown",
   "id": "45c2b827-616e-49d8-99dc-3026de708f36",
   "metadata": {},
   "source": [
    "*Verifico la cantidad de registros  resultantes luego de la limpieza:*"
   ]
  },
  {
   "cell_type": "code",
   "execution_count": 18,
   "id": "9ccec9c2-a968-4d57-a8e9-734e748206d9",
   "metadata": {},
   "outputs": [
    {
     "name": "stdout",
     "output_type": "stream",
     "text": [
      "Cantidad de registros: 11952. Cantidad de columnas: 13.\n"
     ]
    }
   ],
   "source": [
    "ncant_filas, ncant_columnas = dataframe.shape\n",
    "print(f\"Cantidad de registros: {ncant_filas}. Cantidad de columnas: {ncant_columnas}.\")"
   ]
  },
  {
   "cell_type": "markdown",
   "id": "150254cd-3714-4fa8-a923-72202aeadbbd",
   "metadata": {},
   "source": [
    "*De un total original de 12014 filas, quedaron 11952, lo que nos indica que habia 62 filas con celdas vacias*"
   ]
  },
  {
   "cell_type": "markdown",
   "id": "96a0784c-34e8-40ec-b3df-f1fe701bc6c6",
   "metadata": {},
   "source": [
    "**2- Datos en Formato incorrecto:**\n",
    "\n",
    "Es necesario cambiar el tipo de dato de las columnas: *ventas, utilidad_bruta,  costos y utilidad_bruta_p*, del tipo objeto al tipo flotante, ya que verifico que los registros de las columnas ventas, utilidad_bruta y costos, originalmente tiene la siguiente sintaxis: \"$155.040,02\" y necesito que queden de la siguiente forma: \"155040.02\" , para poder obtener las medidas de tendencias centrales (media, mediana y desviacion estandar) asi como para realizar acciones de conteo. \n",
    "\n",
    "Para hacerlo seguiré los siguientes pasos:\n",
    "- eliminar los signos \"$\"\n",
    "- eliminar as \",\"\n",
    "- reemplazar los \".\" por \",\" (Ya que sino, no puedo cambiar el tipo de dato)"
   ]
  },
  {
   "cell_type": "markdown",
   "id": "3b394869-af65-408c-9ee3-648a5999a45f",
   "metadata": {},
   "source": [
    "**A- Reemplazar los signos \"$\" de las columnas: ventas, 'utilidad_bruta' y 'costos'**"
   ]
  },
  {
   "cell_type": "code",
   "execution_count": 19,
   "id": "5cbf214d-5b45-444e-8a4d-5262d24a0593",
   "metadata": {},
   "outputs": [],
   "source": [
    "dataframe['ventas'] = dataframe['ventas'].str.replace('$', '')\n",
    "dataframe['utilidad_bruta'] = dataframe['utilidad_bruta'].str.replace('$', '')\n",
    "dataframe['costos'] = dataframe['costos'].str.replace('$', '')"
   ]
  },
  {
   "cell_type": "markdown",
   "id": "e201c7f4-025b-408f-b87d-5a4e6b8f3c51",
   "metadata": {},
   "source": [
    "**B- Reemplazar los signos \".\" de las columnas: ventas, 'utilidad_bruta', 'costos' y 'cantidad'**"
   ]
  },
  {
   "cell_type": "code",
   "execution_count": 20,
   "id": "181c9f19-203a-43f5-a287-dab11085e126",
   "metadata": {},
   "outputs": [],
   "source": [
    "dataframe['ventas'] = dataframe['ventas'].str.replace('.', '')\n",
    "dataframe['utilidad_bruta'] = dataframe['utilidad_bruta'].str.replace('.', '')\n",
    "dataframe['costos'] = dataframe['costos'].str.replace('.', '')"
   ]
  },
  {
   "cell_type": "markdown",
   "id": "60cc3d31-f32c-4e23-a402-508c59432ccb",
   "metadata": {},
   "source": [
    "**C - Reemplazar los signos \",\" por \".\" de las columnas:ventas, , 'utilidad_bruta', 'costos' y 'cantidad'**"
   ]
  },
  {
   "cell_type": "code",
   "execution_count": 21,
   "id": "3fa29793-598c-4a18-bec7-8f8c066ae01f",
   "metadata": {},
   "outputs": [],
   "source": [
    "dataframe['ventas'] = dataframe['ventas'].str.replace(',', '.')\n",
    "dataframe['utilidad_bruta'] = dataframe['utilidad_bruta'].str.replace(',', '.')\n",
    "dataframe['costos'] = dataframe['costos'].str.replace(',', '.')"
   ]
  },
  {
   "cell_type": "markdown",
   "id": "385b5fb2-63e5-465b-9180-e17fdefa75d6",
   "metadata": {},
   "source": [
    "**D- Reemplazar los signos \"%\" por \"\" y \".\" por \",\" de la columna \"utilidad_bruta_p\"**"
   ]
  },
  {
   "cell_type": "code",
   "execution_count": 22,
   "id": "dad695c6-021f-4b26-8588-8572777e1bde",
   "metadata": {},
   "outputs": [],
   "source": [
    "dataframe['utilidad_bruta_p'] = dataframe['utilidad_bruta_p'].str.replace('%','')\n",
    "dataframe['utilidad_bruta_p'] = dataframe['utilidad_bruta_p'].str.replace(',','.')"
   ]
  },
  {
   "cell_type": "markdown",
   "id": "967e3b34-d97b-40d6-bc02-e63389caebfb",
   "metadata": {},
   "source": [
    "**E- Ahora si, puedo convertir cambiar el tipo de dato a float:**"
   ]
  },
  {
   "cell_type": "code",
   "execution_count": 23,
   "id": "6c6eabf4-8107-45ef-8ed8-ab4a0ec7deea",
   "metadata": {},
   "outputs": [],
   "source": [
    "dataframe[['ventas', 'utilidad_bruta', 'costos', 'utilidad_bruta_p']] = dataframe[['ventas', 'utilidad_bruta', 'costos', 'utilidad_bruta_p']].astype(float)"
   ]
  },
  {
   "cell_type": "markdown",
   "id": "aeca5b49-dd00-4a20-8693-4fc953f52f58",
   "metadata": {},
   "source": [
    "**F- Cambiar el tipo de dato de la columna año al tipo entero:**"
   ]
  },
  {
   "cell_type": "code",
   "execution_count": 24,
   "id": "c0172856-2feb-4111-ba93-ea766d29ec7e",
   "metadata": {},
   "outputs": [],
   "source": [
    "dataframe['año'] = dataframe['año'].astype(int)"
   ]
  },
  {
   "cell_type": "markdown",
   "id": "115032b0-2dba-4a3f-8e81-656cda701490",
   "metadata": {},
   "source": [
    "**G-Tipos de datos finales:**"
   ]
  },
  {
   "cell_type": "code",
   "execution_count": 25,
   "id": "5716fe4d-8f14-4866-bd53-f191966efd47",
   "metadata": {},
   "outputs": [
    {
     "name": "stdout",
     "output_type": "stream",
     "text": [
      "pais                 object\n",
      "metodo_orden         object\n",
      "tipo_comercio        object\n",
      "linea                object\n",
      "tipo_producto        object\n",
      "producto             object\n",
      "año                   int32\n",
      "cuatrimestre         object\n",
      "ventas              float64\n",
      "cantidad            float64\n",
      "utilidad_bruta_p    float64\n",
      "utilidad_bruta      float64\n",
      "costos              float64\n",
      "dtype: object\n"
     ]
    }
   ],
   "source": [
    "tipos_datos = dataframe.dtypes\n",
    "print(tipos_datos)"
   ]
  },
  {
   "cell_type": "markdown",
   "id": "19ed8f0a-450c-4af7-9687-e3529fdf0e22",
   "metadata": {},
   "source": [
    "**3- Limpieza de filas duplicadas:**"
   ]
  },
  {
   "cell_type": "markdown",
   "id": "ad1f8760-24b5-4413-88a5-5a35123d72de",
   "metadata": {},
   "source": [
    "**A- Identificar las filas duplicadas:**\n",
    "\n",
    "*Uso el metodo duplicated() para identificar duplicados, como este metodo nos devuelve True si las filas estan duplicadas, no es practico de visualizar cuando son muchos registros, por lo que primero guardo el resultado en un nuevo dataset (filasRegistro), para luego recorrer cada celda  y guardar en un array el indice de aquellas que son  True (duplicados), asi poder llevar un control de cuales son las duplicadas.*"
   ]
  },
  {
   "cell_type": "code",
   "execution_count": 26,
   "id": "e535c0f3-fe27-45c2-8346-19e4b81012c2",
   "metadata": {},
   "outputs": [
    {
     "name": "stdout",
     "output_type": "stream",
     "text": [
      "Hay un total de 14 filas duplicadas, las cuales son: [11, 1973, 2001, 2009, 3499, 7091, 7871, 7908, 9269, 9301, 9677, 9679, 11750, 11778]\n"
     ]
    }
   ],
   "source": [
    "filasRegistro = dataframe.duplicated()\n",
    "filasDuplicadas = []\n",
    "\n",
    "for x in filasRegistro.index:\n",
    "  if filasRegistro.loc[x] == True:\n",
    "    filasDuplicadas.append(x)\n",
    "\n",
    "if len(filasDuplicadas) == 0:\n",
    "    print('No hay filas duplicadas')\n",
    "else:\n",
    "    print('Hay un total de {} filas duplicadas, las cuales son: {}'.format(len(filasDuplicadas), filasDuplicadas))"
   ]
  },
  {
   "cell_type": "markdown",
   "id": "2776b88b-6d19-4c77-8443-33964d226dc9",
   "metadata": {},
   "source": [
    "**B - Eliminar filas duplicadas:**"
   ]
  },
  {
   "cell_type": "code",
   "execution_count": 27,
   "id": "2915cf71-9fbc-46a5-ba5e-9938abae0bef",
   "metadata": {},
   "outputs": [],
   "source": [
    "dataframe.drop_duplicates(inplace = True)"
   ]
  },
  {
   "cell_type": "markdown",
   "id": "2d5cc3b7-92f3-4bc5-a10f-21aad5cecad6",
   "metadata": {},
   "source": [
    "*Verifico la cantidad de registros resultantes luego de la limpieza:*"
   ]
  },
  {
   "cell_type": "code",
   "execution_count": 28,
   "id": "5b9ba71c-6529-4b2a-afc3-5598300b54ab",
   "metadata": {},
   "outputs": [
    {
     "name": "stdout",
     "output_type": "stream",
     "text": [
      "Cantidad de registros resultantes: 11938. Cantidad de columnas: 13\n"
     ]
    }
   ],
   "source": [
    "cant_filas, cant_columnas = dataframe.shape\n",
    "print(f\"Cantidad de registros resultantes: {cant_filas}. Cantidad de columnas: {cant_columnas}\")"
   ]
  },
  {
   "cell_type": "markdown",
   "id": "031dd0be-3be3-43c6-96b8-7ef23981670d",
   "metadata": {},
   "source": [
    "*De un total original de 12.014 filas, pasamos a 11.952 y ahora nos quedan 11.938 lo que nos indica que habia 14 filas con celdas duplicadas*"
   ]
  },
  {
   "cell_type": "markdown",
   "id": "bb3a614f-1f42-4b05-bd69-bfbc856c3b05",
   "metadata": {},
   "source": [
    "**4- Limpieza de información incorrecta:**"
   ]
  },
  {
   "cell_type": "markdown",
   "id": "fe90e339-6566-46a1-8ceb-9ae9f9825012",
   "metadata": {},
   "source": [
    "**A- Verificar registros que sean igual o menor a 0 en las columnas: año, ventas, cantidad, utilidad_bruta, utilidad_bruta_p y costos**"
   ]
  },
  {
   "cell_type": "markdown",
   "id": "aba790d3-d006-4b41-9971-5e05625dce37",
   "metadata": {},
   "source": [
    "*Utilizare filtros, para detectas estas filas*"
   ]
  },
  {
   "cell_type": "code",
   "execution_count": 29,
   "id": "f6a024a4-f6aa-4e21-8924-e61caf3b4ddb",
   "metadata": {},
   "outputs": [
    {
     "name": "stdout",
     "output_type": "stream",
     "text": [
      "Cantidad de elementos menores o iguales a cero, por columna:\n",
      "- Año: 0\n",
      "- Ventas: 78\n",
      "- Cantidad: 65\n",
      "- Utilidad Bruta P: 0\n",
      "- Utilidad Bruta: 0\n",
      "- Costos:0\n",
      "\n"
     ]
    }
   ],
   "source": [
    "menorIgualaCeroAño = dataframe[dataframe['año'] <= 0]\n",
    "menorIgualaCeroVentas = dataframe[dataframe['ventas'] <= 0]\n",
    "menorIgualaCeroCantidad = dataframe[dataframe['cantidad'] <= 0]\n",
    "menorIgualaCeroUBP =dataframe[dataframe['utilidad_bruta_p'] <= 0]\n",
    "menorIgualaCeroUB =dataframe[dataframe['utilidad_bruta'] <= 0]\n",
    "menorIgualaCeroCostos =dataframe[dataframe['costos'] <= 0]\n",
    "\n",
    "print('''Cantidad de elementos menores o iguales a cero, por columna:\n",
    "- Año: {}\n",
    "- Ventas: {}\n",
    "- Cantidad: {}\n",
    "- Utilidad Bruta P: {}\n",
    "- Utilidad Bruta: {}\n",
    "- Costos:{}\n",
    "'''.format(menorIgualaCeroAño.size, menorIgualaCeroVentas.size, menorIgualaCeroCantidad.size, \n",
    "           menorIgualaCeroUBP.size, menorIgualaCeroUB.size, menorIgualaCeroCostos.size))"
   ]
  },
  {
   "cell_type": "markdown",
   "id": "9fb618cd-359d-46c5-944c-0128f9083c8a",
   "metadata": {},
   "source": [
    "*Del analisis verifico que en las columnas  cantidad y ventas, hay valores que son iguales o menores a Cero, lo cual es un error*"
   ]
  },
  {
   "cell_type": "markdown",
   "id": "3fb63e97-a4b4-4bc3-8d35-301c667edc9b",
   "metadata": {},
   "source": [
    "**B- Borrar los registros  de ventas que sean igual a ceros**\n",
    "\n",
    "*En esta columna decido borrar los registros, y conservar aquellos donde el valor de ventas sea mayor a cero, ya que no tengo un valor de referencia*"
   ]
  },
  {
   "cell_type": "code",
   "execution_count": 30,
   "id": "7bb220ce-8305-4565-9f70-08c1f9092b04",
   "metadata": {},
   "outputs": [],
   "source": [
    "dataframe.drop(dataframe[dataframe['ventas']<=0].index, inplace=True)"
   ]
  },
  {
   "cell_type": "markdown",
   "id": "4ee243bb-48f9-4e8a-a72e-fd2db6beb61e",
   "metadata": {},
   "source": [
    "*Se verifica si hay registros menores o igual a cero en la columna ventas, paraa verificar que los cambios funcionaron correctamente*"
   ]
  },
  {
   "cell_type": "code",
   "execution_count": 31,
   "id": "1dd6cada-72f6-4941-868d-7bdf08c31733",
   "metadata": {},
   "outputs": [
    {
     "data": {
      "text/html": [
       "<div>\n",
       "<style scoped>\n",
       "    .dataframe tbody tr th:only-of-type {\n",
       "        vertical-align: middle;\n",
       "    }\n",
       "\n",
       "    .dataframe tbody tr th {\n",
       "        vertical-align: top;\n",
       "    }\n",
       "\n",
       "    .dataframe thead th {\n",
       "        text-align: right;\n",
       "    }\n",
       "</style>\n",
       "<table border=\"1\" class=\"dataframe\">\n",
       "  <thead>\n",
       "    <tr style=\"text-align: right;\">\n",
       "      <th></th>\n",
       "      <th>pais</th>\n",
       "      <th>metodo_orden</th>\n",
       "      <th>tipo_comercio</th>\n",
       "      <th>linea</th>\n",
       "      <th>tipo_producto</th>\n",
       "      <th>producto</th>\n",
       "      <th>año</th>\n",
       "      <th>cuatrimestre</th>\n",
       "      <th>ventas</th>\n",
       "      <th>cantidad</th>\n",
       "      <th>utilidad_bruta_p</th>\n",
       "      <th>utilidad_bruta</th>\n",
       "      <th>costos</th>\n",
       "    </tr>\n",
       "  </thead>\n",
       "  <tbody>\n",
       "  </tbody>\n",
       "</table>\n",
       "</div>"
      ],
      "text/plain": [
       "Empty DataFrame\n",
       "Columns: [pais, metodo_orden, tipo_comercio, linea, tipo_producto, producto, año, cuatrimestre, ventas, cantidad, utilidad_bruta_p, utilidad_bruta, costos]\n",
       "Index: []"
      ]
     },
     "execution_count": 31,
     "metadata": {},
     "output_type": "execute_result"
    }
   ],
   "source": [
    "dataframe[dataframe['ventas'] <= 0]"
   ]
  },
  {
   "cell_type": "markdown",
   "id": "2dd7e38b-bf45-4edd-b9c5-7a3e5ff6bbee",
   "metadata": {},
   "source": [
    "Se verifica que ya no hay registros iguales o menores a cero para la columna "
   ]
  },
  {
   "cell_type": "markdown",
   "id": "da97a5b2-8b12-47fe-b85c-b37067f6c638",
   "metadata": {},
   "source": [
    "**C-Reemplazar los valores en negativo por su equivalente, para la columna cantidad**\n",
    "\n",
    "*En este caso si hay un valor de referencia, lo que esta mal es que estan en negativo*"
   ]
  },
  {
   "cell_type": "code",
   "execution_count": 32,
   "id": "ee49562f-29c5-4eb4-a655-c24abc06283c",
   "metadata": {},
   "outputs": [],
   "source": [
    "dataframe.loc[dataframe[\"cantidad\"] <= 0, \"cantidad\"] *= -1"
   ]
  },
  {
   "cell_type": "markdown",
   "id": "63b64c35-ac0a-4a45-afe2-b83a05e3f477",
   "metadata": {},
   "source": [
    "*Verifico si quedaron valores menores o iguales a cero para la columna cantidad:*"
   ]
  },
  {
   "cell_type": "code",
   "execution_count": 33,
   "id": "b4a2920e-0297-4e2b-8b62-98b7ed7c3a24",
   "metadata": {},
   "outputs": [
    {
     "data": {
      "text/html": [
       "<div>\n",
       "<style scoped>\n",
       "    .dataframe tbody tr th:only-of-type {\n",
       "        vertical-align: middle;\n",
       "    }\n",
       "\n",
       "    .dataframe tbody tr th {\n",
       "        vertical-align: top;\n",
       "    }\n",
       "\n",
       "    .dataframe thead th {\n",
       "        text-align: right;\n",
       "    }\n",
       "</style>\n",
       "<table border=\"1\" class=\"dataframe\">\n",
       "  <thead>\n",
       "    <tr style=\"text-align: right;\">\n",
       "      <th></th>\n",
       "      <th>pais</th>\n",
       "      <th>metodo_orden</th>\n",
       "      <th>tipo_comercio</th>\n",
       "      <th>linea</th>\n",
       "      <th>tipo_producto</th>\n",
       "      <th>producto</th>\n",
       "      <th>año</th>\n",
       "      <th>cuatrimestre</th>\n",
       "      <th>ventas</th>\n",
       "      <th>cantidad</th>\n",
       "      <th>utilidad_bruta_p</th>\n",
       "      <th>utilidad_bruta</th>\n",
       "      <th>costos</th>\n",
       "    </tr>\n",
       "  </thead>\n",
       "  <tbody>\n",
       "  </tbody>\n",
       "</table>\n",
       "</div>"
      ],
      "text/plain": [
       "Empty DataFrame\n",
       "Columns: [pais, metodo_orden, tipo_comercio, linea, tipo_producto, producto, año, cuatrimestre, ventas, cantidad, utilidad_bruta_p, utilidad_bruta, costos]\n",
       "Index: []"
      ]
     },
     "execution_count": 33,
     "metadata": {},
     "output_type": "execute_result"
    }
   ],
   "source": [
    "dataframe[dataframe['cantidad']<=0]"
   ]
  },
  {
   "cell_type": "markdown",
   "id": "21d27c79-6fc0-43a8-806d-094677a1f371",
   "metadata": {},
   "source": [
    "*ya no hay valores menores o iguales a cero para la columna cantidad*"
   ]
  },
  {
   "cell_type": "markdown",
   "id": "053994e5-fa35-486f-9ccf-ffa5f49a3388",
   "metadata": {},
   "source": [
    "**D- Verifico el estado del dataFrame:**\n",
    "\n",
    "*Se verifica que quedaron un total de 11.932 registros*"
   ]
  },
  {
   "cell_type": "code",
   "execution_count": 34,
   "id": "6bd7d813-4174-4d02-b2e0-2bd607a71b99",
   "metadata": {},
   "outputs": [
    {
     "name": "stdout",
     "output_type": "stream",
     "text": [
      "<class 'pandas.core.frame.DataFrame'>\n",
      "Index: 11932 entries, 0 to 12013\n",
      "Data columns (total 13 columns):\n",
      " #   Column            Non-Null Count  Dtype  \n",
      "---  ------            --------------  -----  \n",
      " 0   pais              11932 non-null  object \n",
      " 1   metodo_orden      11932 non-null  object \n",
      " 2   tipo_comercio     11932 non-null  object \n",
      " 3   linea             11932 non-null  object \n",
      " 4   tipo_producto     11932 non-null  object \n",
      " 5   producto          11932 non-null  object \n",
      " 6   año               11932 non-null  int32  \n",
      " 7   cuatrimestre      11932 non-null  object \n",
      " 8   ventas            11932 non-null  float64\n",
      " 9   cantidad          11932 non-null  float64\n",
      " 10  utilidad_bruta_p  11932 non-null  float64\n",
      " 11  utilidad_bruta    11932 non-null  float64\n",
      " 12  costos            11932 non-null  float64\n",
      "dtypes: float64(5), int32(1), object(7)\n",
      "memory usage: 1.2+ MB\n",
      "None\n"
     ]
    }
   ],
   "source": [
    "print(dataframe.info())"
   ]
  },
  {
   "cell_type": "markdown",
   "id": "0db7348e-6d38-43d2-9c71-8a7657e83886",
   "metadata": {},
   "source": [
    "**E - Reemplazar valores erroneos en la columna años:**"
   ]
  },
  {
   "cell_type": "markdown",
   "id": "61b677a3-12d7-440b-9b40-b031d0838ac4",
   "metadata": {},
   "source": [
    "*En los pasos anteriores, se verifican valores incorrectos en la columna años:*"
   ]
  },
  {
   "cell_type": "code",
   "execution_count": 35,
   "id": "b3b02ef6-d60b-4792-afe5-9a16b8b594cd",
   "metadata": {},
   "outputs": [
    {
     "data": {
      "text/plain": [
       "array([  2019, 201900,   2020,  22020,  20020,   2021,  20021,  20211,\n",
       "        20221])"
      ]
     },
     "execution_count": 35,
     "metadata": {},
     "output_type": "execute_result"
    }
   ],
   "source": [
    "tiposAñoUnicos = dataframe['año'].unique()\n",
    "tiposAñoUnicos"
   ]
  },
  {
   "cell_type": "markdown",
   "id": "78ee498d-a0fd-4fae-9d52-3d2038df2f9d",
   "metadata": {},
   "source": [
    "*Reemplazare los valores incorrectos 201900, 22020, 20020, 20021, 20211 y 20221 por 2019, 2020 y 2021*"
   ]
  },
  {
   "cell_type": "code",
   "execution_count": 36,
   "id": "ad2e8e13-7992-4f13-bd71-e2762c00ab13",
   "metadata": {},
   "outputs": [],
   "source": [
    "for x in dataframe.index:\n",
    "  if dataframe.loc[x, \"año\"] == 201900:\n",
    "    dataframe.loc[x, \"año\"] = 2019\n",
    "\n",
    "for x in dataframe.index:\n",
    "  if dataframe.loc[x, \"año\"] == 22020 or dataframe.loc[x, \"año\"] == 20020:\n",
    "    dataframe.loc[x, \"año\"] = 2020\n",
    "\n",
    "for x in dataframe.index:\n",
    "  if dataframe.loc[x, \"año\"] == 20021 or dataframe.loc[x, \"año\"] == 20211 or dataframe.loc[x, \"año\"] == 20221:\n",
    "    dataframe.loc[x, \"año\"] = 2021"
   ]
  },
  {
   "cell_type": "code",
   "execution_count": 37,
   "id": "b3793ce9-5656-46dc-accb-e968163aed24",
   "metadata": {},
   "outputs": [
    {
     "data": {
      "text/plain": [
       "array([2019, 2020, 2021])"
      ]
     },
     "execution_count": 37,
     "metadata": {},
     "output_type": "execute_result"
    }
   ],
   "source": [
    "tiposAñoUnicos = dataframe['año'].unique()\n",
    "tiposAñoUnicos"
   ]
  },
  {
   "cell_type": "markdown",
   "id": "51c33992-a93b-4354-b806-0039f78b3d95",
   "metadata": {},
   "source": [
    "*Se verifican que los valores ahora si son correctos*"
   ]
  },
  {
   "cell_type": "markdown",
   "id": "863c723a-79f1-4606-b36a-446625a05f84",
   "metadata": {},
   "source": [
    "### V) Estadísticas:"
   ]
  },
  {
   "cell_type": "markdown",
   "id": "ba8e6cac-ad34-48e4-98ac-5aea1cfb0145",
   "metadata": {},
   "source": [
    "*Se verificaran las medidas de tendencia centrales*"
   ]
  },
  {
   "cell_type": "markdown",
   "id": "bdaf6ec5-0607-4170-8149-55ed1ceef68b",
   "metadata": {},
   "source": [
    "**1- Informacion estadistica del dataset:**"
   ]
  },
  {
   "cell_type": "code",
   "execution_count": 38,
   "id": "609b9e2c-c643-4e1b-903a-9e2544f941e4",
   "metadata": {},
   "outputs": [
    {
     "data": {
      "text/html": [
       "<div>\n",
       "<style scoped>\n",
       "    .dataframe tbody tr th:only-of-type {\n",
       "        vertical-align: middle;\n",
       "    }\n",
       "\n",
       "    .dataframe tbody tr th {\n",
       "        vertical-align: top;\n",
       "    }\n",
       "\n",
       "    .dataframe thead th {\n",
       "        text-align: right;\n",
       "    }\n",
       "</style>\n",
       "<table border=\"1\" class=\"dataframe\">\n",
       "  <thead>\n",
       "    <tr style=\"text-align: right;\">\n",
       "      <th></th>\n",
       "      <th>año</th>\n",
       "      <th>ventas</th>\n",
       "      <th>cantidad</th>\n",
       "      <th>utilidad_bruta_p</th>\n",
       "      <th>utilidad_bruta</th>\n",
       "      <th>costos</th>\n",
       "    </tr>\n",
       "  </thead>\n",
       "  <tbody>\n",
       "    <tr>\n",
       "      <th>count</th>\n",
       "      <td>11932.00</td>\n",
       "      <td>11932.00</td>\n",
       "      <td>11932.00</td>\n",
       "      <td>11932.00</td>\n",
       "      <td>11932.00</td>\n",
       "      <td>11932.00</td>\n",
       "    </tr>\n",
       "    <tr>\n",
       "      <th>mean</th>\n",
       "      <td>2019.99</td>\n",
       "      <td>138031.58</td>\n",
       "      <td>9008.08</td>\n",
       "      <td>49.90</td>\n",
       "      <td>68883.99</td>\n",
       "      <td>69147.60</td>\n",
       "    </tr>\n",
       "    <tr>\n",
       "      <th>std</th>\n",
       "      <td>0.82</td>\n",
       "      <td>27287.11</td>\n",
       "      <td>4901.00</td>\n",
       "      <td>14.78</td>\n",
       "      <td>24824.31</td>\n",
       "      <td>24831.64</td>\n",
       "    </tr>\n",
       "    <tr>\n",
       "      <th>min</th>\n",
       "      <td>2019.00</td>\n",
       "      <td>90530.25</td>\n",
       "      <td>526.00</td>\n",
       "      <td>24.58</td>\n",
       "      <td>22407.08</td>\n",
       "      <td>22339.56</td>\n",
       "    </tr>\n",
       "    <tr>\n",
       "      <th>25%</th>\n",
       "      <td>2019.00</td>\n",
       "      <td>114488.61</td>\n",
       "      <td>4753.75</td>\n",
       "      <td>37.16</td>\n",
       "      <td>49131.29</td>\n",
       "      <td>49478.43</td>\n",
       "    </tr>\n",
       "    <tr>\n",
       "      <th>50%</th>\n",
       "      <td>2020.00</td>\n",
       "      <td>137799.99</td>\n",
       "      <td>8999.50</td>\n",
       "      <td>49.72</td>\n",
       "      <td>66375.19</td>\n",
       "      <td>66511.94</td>\n",
       "    </tr>\n",
       "    <tr>\n",
       "      <th>75%</th>\n",
       "      <td>2021.00</td>\n",
       "      <td>161723.40</td>\n",
       "      <td>13244.50</td>\n",
       "      <td>62.90</td>\n",
       "      <td>85775.83</td>\n",
       "      <td>86448.51</td>\n",
       "    </tr>\n",
       "    <tr>\n",
       "      <th>max</th>\n",
       "      <td>2021.00</td>\n",
       "      <td>185644.24</td>\n",
       "      <td>17521.00</td>\n",
       "      <td>75.40</td>\n",
       "      <td>138447.51</td>\n",
       "      <td>139072.81</td>\n",
       "    </tr>\n",
       "  </tbody>\n",
       "</table>\n",
       "</div>"
      ],
      "text/plain": [
       "            año     ventas  cantidad  utilidad_bruta_p  utilidad_bruta  \\\n",
       "count  11932.00   11932.00  11932.00          11932.00        11932.00   \n",
       "mean    2019.99  138031.58   9008.08             49.90        68883.99   \n",
       "std        0.82   27287.11   4901.00             14.78        24824.31   \n",
       "min     2019.00   90530.25    526.00             24.58        22407.08   \n",
       "25%     2019.00  114488.61   4753.75             37.16        49131.29   \n",
       "50%     2020.00  137799.99   8999.50             49.72        66375.19   \n",
       "75%     2021.00  161723.40  13244.50             62.90        85775.83   \n",
       "max     2021.00  185644.24  17521.00             75.40       138447.51   \n",
       "\n",
       "          costos  \n",
       "count   11932.00  \n",
       "mean    69147.60  \n",
       "std     24831.64  \n",
       "min     22339.56  \n",
       "25%     49478.43  \n",
       "50%     66511.94  \n",
       "75%     86448.51  \n",
       "max    139072.81  "
      ]
     },
     "execution_count": 38,
     "metadata": {},
     "output_type": "execute_result"
    }
   ],
   "source": [
    "infoEstadistica = dataframe.describe()\n",
    "infoEstadistica.round(2)"
   ]
  },
  {
   "cell_type": "markdown",
   "id": "285d6548-788d-45b6-b044-1d9eeaecaea4",
   "metadata": {},
   "source": [
    "**2- Media:**"
   ]
  },
  {
   "cell_type": "code",
   "execution_count": 39,
   "id": "44577692-2c95-41f4-8ab0-46f0cbbfa51b",
   "metadata": {},
   "outputs": [
    {
     "name": "stdout",
     "output_type": "stream",
     "text": [
      "\n",
      "La media de ventas es: $138031.58 \n",
      "La media de la cantidad de productos es: 9008.08 \n",
      "La media de utilidades brutas es: $68883.99 \n",
      "La media de costos es: $69147.6\n",
      "\n"
     ]
    }
   ],
   "source": [
    "# media de Ventas:\n",
    "media_ventas = dataframe['ventas'].mean()\n",
    "\n",
    "# media de Cantidad de productos:\n",
    "media_cant_productos = dataframe['cantidad'].mean()\n",
    "\n",
    "# media de Utilidad Bruta:\n",
    "media_utilidad_bruta = dataframe['utilidad_bruta'].mean()\n",
    "\n",
    "# media de costos:\n",
    "media_costos =  dataframe['costos'].mean()\n",
    "\n",
    "\n",
    "print(\"\"\"\n",
    "La media de ventas es: ${} \n",
    "La media de la cantidad de productos es: {} \n",
    "La media de utilidades brutas es: ${} \n",
    "La media de costos es: ${}\n",
    "\"\"\".format(media_ventas.round(2), media_cant_productos.round(2), media_utilidad_bruta.round(2), media_costos.round(2)))"
   ]
  },
  {
   "cell_type": "markdown",
   "id": "1c17872a-ee56-48bd-b151-80d7508fd581",
   "metadata": {},
   "source": [
    "**3- Mediana:**"
   ]
  },
  {
   "cell_type": "code",
   "execution_count": 40,
   "id": "e77ea792-658b-41e9-a051-55dd52dd88d5",
   "metadata": {},
   "outputs": [
    {
     "name": "stdout",
     "output_type": "stream",
     "text": [
      "\n",
      "La mediana de ventas es: $137799.99 \n",
      "La mediana de la cantidad de productos es: 8999.5 \n",
      "La mediana de utilidades brutas es: $66375.19 \n",
      "La mediana de costos es: $66511.94\n",
      "\n"
     ]
    }
   ],
   "source": [
    "# mediana de Ventas:\n",
    "mediana_ventas = dataframe['ventas'].median()\n",
    "\n",
    "# mediana de Cantidad de productos:\n",
    "mediana_cant_productos = dataframe['cantidad'].median()\n",
    "\n",
    "# mediana de Utilidad Bruta:\n",
    "mediana_utilidad_bruta = dataframe['utilidad_bruta'].median()\n",
    "\n",
    "# mediana de costos:\n",
    "mediana_costos =  dataframe['costos'].median()\n",
    "\n",
    "\n",
    "print(\"\"\"\n",
    "La mediana de ventas es: ${} \n",
    "La mediana de la cantidad de productos es: {} \n",
    "La mediana de utilidades brutas es: ${} \n",
    "La mediana de costos es: ${}\n",
    "\"\"\".format(mediana_ventas, mediana_cant_productos, mediana_utilidad_bruta, mediana_costos))"
   ]
  },
  {
   "cell_type": "markdown",
   "id": "552e8052-7d2e-4169-88b5-84d58a1943c3",
   "metadata": {},
   "source": [
    "**4- Desviacion Estandar:**"
   ]
  },
  {
   "cell_type": "code",
   "execution_count": 41,
   "id": "f5bc8a7c-0514-426f-b228-3bb87c34fac0",
   "metadata": {},
   "outputs": [
    {
     "name": "stdout",
     "output_type": "stream",
     "text": [
      "\n",
      "La desviación estándar de ventas es: $27287.107331194882\n",
      "La Desviación estándar de cantidad de productos es: 4900.998441872444\n",
      "La desviación estándar de utilidad bruta es: 24824.309456247614\n",
      "La desviacion estandar de costos es: 24831.638724164717\n"
     ]
    }
   ],
   "source": [
    "# Desviacion estándar en ventas:\n",
    "desviacion_ventas = dataframe['ventas'].std()\n",
    "\n",
    "#Desviación estándar de Cantidad de Productos:\n",
    "desviacion_cant_productos = dataframe['cantidad'].std()\n",
    "\n",
    "#Desviación estándar de utilidad bruta:\n",
    "desviacion_utilidad_bruta = dataframe['utilidad_bruta'].std()\n",
    "\n",
    "#Desviacion estándar de costos:\n",
    "desviacion_costos = dataframe['costos'].std()\n",
    "\n",
    "print(\"\"\"\n",
    "La desviación estándar de ventas es: ${}\n",
    "La Desviación estándar de cantidad de productos es: {}\n",
    "La desviación estándar de utilidad bruta es: {}\n",
    "La desviacion estandar de costos es: {}\"\"\".format(desviacion_ventas, desviacion_cant_productos, desviacion_utilidad_bruta, desviacion_costos))"
   ]
  },
  {
   "cell_type": "markdown",
   "id": "4f5485c0-9695-4279-90a1-a56a3d0c84f2",
   "metadata": {},
   "source": [
    "**5- Moda:**"
   ]
  },
  {
   "cell_type": "markdown",
   "id": "bd56c912-24db-498e-8ca2-13d7ce1fc10f",
   "metadata": {},
   "source": [
    "*Usare moda para entender los valores que aparecen con mas frecuencia en las columnas categoricas, lo que servira para analizar los datos*"
   ]
  },
  {
   "cell_type": "code",
   "execution_count": 42,
   "id": "bd910786-9cb6-4aa4-8ffb-7030a5f6d3fe",
   "metadata": {},
   "outputs": [
    {
     "name": "stdout",
     "output_type": "stream",
     "text": [
      "\n",
      "Moda de la columna pais: 0    China\n",
      "Name: pais, dtype: object\n",
      "\n",
      "Moda de la columna metodo_orden: 0    Website\n",
      "Name: metodo_orden, dtype: object\n",
      "\n",
      "Moda de la columna tipo_comercio: 0    De proximidad\n",
      "Name: tipo_comercio, dtype: object\n",
      "\n",
      "Moda de la columna linea: 0    Hombre\n",
      "Name: linea, dtype: object\n",
      "\n",
      "Moda de la columna tipo_producto: 0    Calzado\n",
      "Name: tipo_producto, dtype: object\n",
      "\n",
      "Moda de la columna producto: 0    Dusicyon thous\n",
      "Name: producto, dtype: object\n",
      "    \n",
      "\n"
     ]
    }
   ],
   "source": [
    "# Moda de pais:\n",
    "mPais = dataframe['pais'].mode()\n",
    "\n",
    "# Moda de metodo_orden:\n",
    "mMetodoOrden = dataframe['metodo_orden'].mode()\n",
    "\n",
    "# Moda de tipo_comercio:\n",
    "mTipoComercio = dataframe['tipo_comercio'].mode()\n",
    "\n",
    "# Moda de linea:\n",
    "mLinea = dataframe['linea'].mode()\n",
    "\n",
    "# Moda de tipo_producto:\n",
    "mTipoProducto = dataframe['tipo_producto'].mode()\n",
    "\n",
    "# Moda de producto:\n",
    "mProducto = dataframe['producto'].mode()\n",
    "\n",
    "print('''\n",
    "Moda de la columna pais: {}\n",
    "\n",
    "Moda de la columna metodo_orden: {}\n",
    "\n",
    "Moda de la columna tipo_comercio: {}\n",
    "\n",
    "Moda de la columna linea: {}\n",
    "\n",
    "Moda de la columna tipo_producto: {}\n",
    "\n",
    "Moda de la columna producto: {}\n",
    "    \n",
    "'''.format(mPais, mMetodoOrden, mTipoComercio, mLinea, mTipoProducto, mProducto))"
   ]
  },
  {
   "cell_type": "markdown",
   "id": "9278c0e9-ddaa-4082-ab16-19df95b47114",
   "metadata": {},
   "source": [
    "### VI) Visualizaciones"
   ]
  },
  {
   "cell_type": "markdown",
   "id": "2d8f6530-2df0-4277-92e2-3bab949620c5",
   "metadata": {},
   "source": [
    "**1- Graficos de barras \"Utilidad bruta anual por pais por año\"**"
   ]
  },
  {
   "cell_type": "code",
   "execution_count": null,
   "id": "6926a9e8-f96a-4836-95f8-07c520ef04a9",
   "metadata": {},
   "outputs": [],
   "source": []
  },
  {
   "cell_type": "markdown",
   "id": "3d69f5be-e8b6-4e33-b813-aa1aabde3028",
   "metadata": {},
   "source": [
    "**2- Grafico de dispercion de \"Utilidad bruta anual por pais\"**"
   ]
  },
  {
   "cell_type": "code",
   "execution_count": null,
   "id": "41bbb10a-25de-439a-952f-859b41fc318b",
   "metadata": {},
   "outputs": [],
   "source": []
  },
  {
   "cell_type": "markdown",
   "id": "20c0bd77-69bf-46cd-beb3-824b32ea4986",
   "metadata": {},
   "source": [
    "**3- Grafico de lineas \"ventas totales por paises de sudamerica\"**"
   ]
  },
  {
   "cell_type": "markdown",
   "id": "8677f0f5-1fad-43d0-a150-50eed20f9c7d",
   "metadata": {},
   "source": [
    "*Primero agrupo los valores con los que quiero trabajar*"
   ]
  },
  {
   "cell_type": "code",
   "execution_count": 55,
   "id": "a817811e-b558-4c75-86da-1d31f7a69f85",
   "metadata": {},
   "outputs": [],
   "source": [
    "ventasPorPais = dataframe.groupby(['pais', 'año']) ['ventas'].sum().reset_index().sort_values('año')\n",
    "\n",
    "ventasArgentina = ventasPorPais[ventasPorPais['pais'] == 'Argentina']\n",
    "ventasBolivia = ventasPorPais[ventasPorPais['pais'] == 'Bolivia']\n",
    "ventasBrazil = ventasPorPais[ventasPorPais['pais'] == 'Brazil']\n",
    "ventasChile = ventasPorPais[ventasPorPais['pais'] == 'Chile']\n",
    "ventasColombia = ventasPorPais[ventasPorPais['pais'] == 'Colombia']\n",
    "ventasEcuador = ventasPorPais[ventasPorPais['pais'] == 'Ecuador']\n",
    "ventasParaguay = ventasPorPais[ventasPorPais['pais'] == 'Paraguay']\n",
    "ventasPeru = ventasPorPais[ventasPorPais['pais'] == 'Peru']\n",
    "ventasUruguay = ventasPorPais[ventasPorPais['pais'] == 'Uruguay']\n",
    "ventasVenezuela = ventasPorPais[ventasPorPais['pais'] == 'Venezuela']"
   ]
  },
  {
   "cell_type": "code",
   "execution_count": 68,
   "id": "d4e5f693-9946-4190-bb1f-c08f1b058157",
   "metadata": {},
   "outputs": [
    {
     "data": {
      "image/png": "[encoded data removed]",
      "text/plain": [
       "<Figure size 1000x600 with 1 Axes>"
      ]
     },
     "metadata": {},
     "output_type": "display_data"
    }
   ],
   "source": [
    "plt.figure(figsize=(10, 6))\n",
    "\n",
    "plt.plot(ventasArgentina['año'], ventasArgentina['ventas'], label='Argentina')\n",
    "plt.plot(ventasBolivia['año'], ventasBolivia['ventas'], label='Bolivia')\n",
    "plt.plot(ventasBrazil['año'], ventasBrazil['ventas'], label='Brazil')\n",
    "plt.plot(ventasChile['año'], ventasChile['ventas'], label='Chile')\n",
    "plt.plot(ventasColombia['año'], ventasColombia['ventas'], label='Colombia')\n",
    "plt.plot(ventasEcuador['año'], ventasEcuador['ventas'], label='Ecuador')\n",
    "plt.plot(ventasParaguay['año'], ventasParaguay['ventas'], label='Paraguay')\n",
    "plt.plot(ventasPeru['año'], ventasPeru['ventas'], label='Peru')\n",
    "plt.plot(ventasUruguay['año'], ventasUruguay['ventas'], label='Uruguay')\n",
    "plt.plot(ventasVenezuela['año'], ventasVenezuela['ventas'], label='Venezuela')\n",
    "\n",
    "# Etiquetas de datos:\n",
    "#for x, y in zip(ventasPorPais['año'], ventasPorPais['ventas']):\n",
    "#    plt.annotate(f'{y}', (x, y), textcoords=\"offset points\", xytext=(0,10), ha='center', fontsize=8)\n",
    "\n",
    "# Etiquetas:\n",
    "plt.xlabel('Año')\n",
    "plt.ylabel('Ventas')\n",
    "plt.title('Ventas Anuales por País de Sudamerica')\n",
    "plt.grid(axis = 'x',color = 'gray', linestyle = '--', linewidth = 1)\n",
    "plt.legend()\n",
    "plt.legend(title = \"Paises de Sudamerica:\")\n",
    "\n",
    "plt.show()"
   ]
  },
  {
   "cell_type": "markdown",
   "id": "b02c4255-3a86-4844-b6b7-ef4abb64db11",
   "metadata": {},
   "source": [
    "**4- Graficos de torta \"Utilidad bruta anual por tipo de Comercio\" y \"Utilidad bruta anual por tipo de producto\"**"
   ]
  },
  {
   "cell_type": "code",
   "execution_count": null,
   "id": "59674449-2872-4cde-a035-53d2f4c0b229",
   "metadata": {},
   "outputs": [],
   "source": []
  },
  {
   "cell_type": "markdown",
   "id": "c26d6855-2fb7-45bd-b933-e08cd4a0ed59",
   "metadata": {},
   "source": [
    "**5- Grafico de barras horizontales, de tipo de productos mas vendidos por paises de Sudamerica\"**"
   ]
  },
  {
   "cell_type": "code",
   "execution_count": 136,
   "id": "36dac6e1-9e8a-41aa-bed8-c16b786a6d20",
   "metadata": {},
   "outputs": [
    {
     "data": {
      "text/html": [
       "<div>\n",
       "<style scoped>\n",
       "    .dataframe tbody tr th:only-of-type {\n",
       "        vertical-align: middle;\n",
       "    }\n",
       "\n",
       "    .dataframe tbody tr th {\n",
       "        vertical-align: top;\n",
       "    }\n",
       "\n",
       "    .dataframe thead th {\n",
       "        text-align: right;\n",
       "    }\n",
       "</style>\n",
       "<table border=\"1\" class=\"dataframe\">\n",
       "  <thead>\n",
       "    <tr style=\"text-align: right;\">\n",
       "      <th></th>\n",
       "      <th>pais</th>\n",
       "      <th>tipo_producto</th>\n",
       "      <th>ventas</th>\n",
       "    </tr>\n",
       "  </thead>\n",
       "  <tbody>\n",
       "    <tr>\n",
       "      <th>0</th>\n",
       "      <td>Argentina</td>\n",
       "      <td>Accesorios</td>\n",
       "      <td>24744343.93</td>\n",
       "    </tr>\n",
       "    <tr>\n",
       "      <th>1</th>\n",
       "      <td>Argentina</td>\n",
       "      <td>Calzado</td>\n",
       "      <td>33072547.78</td>\n",
       "    </tr>\n",
       "    <tr>\n",
       "      <th>2</th>\n",
       "      <td>Argentina</td>\n",
       "      <td>Joyas</td>\n",
       "      <td>24647083.67</td>\n",
       "    </tr>\n",
       "    <tr>\n",
       "      <th>3</th>\n",
       "      <td>Argentina</td>\n",
       "      <td>Juguetes</td>\n",
       "      <td>26641977.95</td>\n",
       "    </tr>\n",
       "    <tr>\n",
       "      <th>4</th>\n",
       "      <td>Argentina</td>\n",
       "      <td>Lentes</td>\n",
       "      <td>33085227.41</td>\n",
       "    </tr>\n",
       "    <tr>\n",
       "      <th>5</th>\n",
       "      <td>Argentina</td>\n",
       "      <td>Vestimenta</td>\n",
       "      <td>28040167.96</td>\n",
       "    </tr>\n",
       "  </tbody>\n",
       "</table>\n",
       "</div>"
      ],
      "text/plain": [
       "        pais tipo_producto       ventas\n",
       "0  Argentina    Accesorios  24744343.93\n",
       "1  Argentina       Calzado  33072547.78\n",
       "2  Argentina         Joyas  24647083.67\n",
       "3  Argentina      Juguetes  26641977.95\n",
       "4  Argentina        Lentes  33085227.41\n",
       "5  Argentina    Vestimenta  28040167.96"
      ]
     },
     "execution_count": 136,
     "metadata": {},
     "output_type": "execute_result"
    }
   ],
   "source": [
    "tipoProductoPorPais = dataframe.groupby(['pais', 'tipo_producto']) ['ventas'].sum().reset_index()\n",
    "\n",
    "tipoProductoArgentina = tipoProductoPorPais[tipoProductoPorPais['pais'] == 'Argentina']\n",
    "tipoProductoBolivia = tipoProductoPorPais[tipoProductoPorPais['pais'] == 'Bolivia']\n",
    "tipoProductoBrazil = tipoProductoPorPais[tipoProductoPorPais['pais'] == 'Brazil']\n",
    "tipoProductoChile = tipoProductoPorPais[tipoProductoPorPais['pais'] == 'Chile']\n",
    "tipoProductoColombia = tipoProductoPorPais[tipoProductoPorPais['pais'] == 'Colombia']\n",
    "tipoProductoEcuador = tipoProductoPorPais[tipoProductoPorPais['pais'] == 'Ecuador']\n",
    "tipoProductoParaguay = tipoProductoPorPais[tipoProductoPorPais['pais'] == 'Paraguay']\n",
    "tipoProductoPeru = tipoProductoPorPais[tipoProductoPorPais['pais'] == 'Peru']\n",
    "tipoProductoUruguay = tipoProductoPorPais[tipoProductoPorPais['pais'] == 'Uruguay']\n",
    "tipoProductoVenezuela = tipoProductoPorPais[tipoProductoPorPais['pais'] == 'Venezuela']\n",
    "\n",
    "tipoProductoArgentina\n"
   ]
  },
  {
   "cell_type": "code",
   "execution_count": 143,
   "id": "fa04e6a7-f1d1-41dd-86d2-29c6c3cbc72e",
   "metadata": {},
   "outputs": [
    {
     "data": {
      "image/png": "[encoded data removed]",
      "text/plain": [
       "<Figure size 2200x4000 with 10 Axes>"
      ]
     },
     "metadata": {},
     "output_type": "display_data"
    }
   ],
   "source": [
    "# Ajusto el tamaño dle plot, ya que quedaban muy juntos los graficos\n",
    "plt.figure(figsize=(22, 40))\n",
    "\n",
    "# Argentina\n",
    "plt.subplot(6,3,1)\n",
    "plt.barh(tipoProductoArgentina['tipo_producto'], tipoProductoArgentina['ventas'], color= \"#FF5733\")\n",
    "# plt.xlabel('Cantidad de ventas')\n",
    "# plt.ylabel('Tipo de producto')\n",
    "plt.title('Ventas por tipo de producto en Argentina')\n",
    "\n",
    "# Bolivia\n",
    "plt.subplot(6,3,2)\n",
    "plt.barh(tipoProductoBolivia['tipo_producto'], tipoProductoBolivia['ventas'], color= \"#FFBD33\")\n",
    "# plt.xlabel('Cantidad de ventas')\n",
    "# plt.ylabel('Tipo de producto')\n",
    "plt.title('Ventas por tipo de producto en Bolivia')\n",
    "\n",
    "# Brazil\n",
    "plt.subplot(6,3,3)\n",
    "plt.barh(tipoProductoBrazil['tipo_producto'], tipoProductoBrazil['ventas'], color= \"#DBFF33\")\n",
    "# plt.xlabel('Cantidad de ventas')\n",
    "# plt.ylabel('Tipo de producto')\n",
    "plt.title('Ventas por tipo de producto en Brasil')\n",
    "\n",
    "# Chile\n",
    "plt.subplot(6,3,4)\n",
    "plt.barh(tipoProductoChile['tipo_producto'], tipoProductoChile['ventas'], color= \"#75FF33\")\n",
    "# plt.xlabel('Cantidad de ventas')\n",
    "# plt.ylabel('Tipo de producto')\n",
    "plt.title('Ventas por tipo de producto en Chile')\n",
    "\n",
    "# Colombia\n",
    "plt.subplot(6,3,5)\n",
    "plt.barh(tipoProductoColombia['tipo_producto'], tipoProductoColombia['ventas'], color= \"#33FF57\")\n",
    "# plt.xlabel('Cantidad de ventas')\n",
    "# plt.ylabel('Tipo de producto')\n",
    "plt.title('Ventas por tipo de producto en Colombia')\n",
    "\n",
    "# Ecuador\n",
    "plt.subplot(6,3,6)\n",
    "plt.barh(tipoProductoEcuador['tipo_producto'], tipoProductoEcuador['ventas'], color= \"#33FFBD\")\n",
    "# plt.xlabel('Cantidad de ventas')\n",
    "# plt.ylabel('Tipo de producto')\n",
    "plt.title('Ventas por tipo de producto en Ecuador')\n",
    "\n",
    "# Paraguay\n",
    "plt.subplot(6,3,7)\n",
    "plt.barh(tipoProductoParaguay['tipo_producto'], tipoProductoParaguay['ventas'], color= \"#33DBFF\")\n",
    "# plt.xlabel('Cantidad de ventas')\n",
    "# plt.ylabel('Tipo de producto')\n",
    "plt.title('Ventas por tipo de producto en Paraguay')\n",
    "\n",
    "# Peru\n",
    "plt.subplot(6,3,8)\n",
    "plt.barh(tipoProductoPeru['tipo_producto'], tipoProductoPeru['ventas'], color= \"#3375FF\")\n",
    "# plt.xlabel('Cantidad de ventas')\n",
    "# plt.ylabel('Tipo de producto')\n",
    "plt.title('Ventas por tipo de producto en Perú')\n",
    "\n",
    "# Uruguay\n",
    "plt.subplot(6,3,9)\n",
    "plt.barh(tipoProductoUruguay['tipo_producto'], tipoProductoUruguay['ventas'], color= \"#5733FF\")\n",
    "# plt.xlabel('Cantidad de ventas')\n",
    "# plt.ylabel('Tipo de producto')\n",
    "plt.title('Ventas por tipo de producto en Uruguay')\n",
    "\n",
    "# Venezuela\n",
    "plt.subplot(6,3,10)\n",
    "plt.barh(tipoProductoVenezuela['tipo_producto'], tipoProductoVenezuela['ventas'], color='#BD33FF')\n",
    "# plt.xlabel('Cantidad de ventas')\n",
    "# plt.ylabel('Tipo de producto')\n",
    "plt.title('Ventas por tipo de producto en Venezuela')\n",
    "\n",
    "\n",
    "plt.show()"
   ]
  },
  {
   "cell_type": "markdown",
   "id": "c75dad69-1cc5-4db3-b2b7-1ce4ac861c25",
   "metadata": {},
   "source": [
    "**5-Grafico Histograma de  tipos de productos vendidos por cuatrimestres en China**\n",
    "\n",
    "*Se selecciona China ya que es la moda de la columna paises*"
   ]
  },
  {
   "cell_type": "code",
   "execution_count": null,
   "id": "5c9a953a-9715-4f66-92dd-165c699c7c1a",
   "metadata": {},
   "outputs": [],
   "source": []
  }
 ],
 "metadata": {
  "kernelspec": {
   "display_name": "Python 3 (ipykernel)",
   "language": "python",
   "name": "python3"
  },
  "language_info": {
   "codemirror_mode": {
    "name": "ipython",
    "version": 3
   },
   "file_extension": ".py",
   "mimetype": "text/x-python",
   "name": "python",
   "nbconvert_exporter": "python",
   "pygments_lexer": "ipython3",
   "version": "3.11.7"
  }
 },
 "nbformat": 4,
 "nbformat_minor": 5
}
